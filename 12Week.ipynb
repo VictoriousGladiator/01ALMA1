{
 "cells": [
  {
   "cell_type": "markdown",
   "metadata": {},
   "source": [
    "\"\"\"\n",
    "    topic: LU decomposition\n",
    "\n",
    "    a) \n",
    "    implement the LU decomposition\n",
    "\n",
    "    b)\n",
    "    calculate the forward and backward substitution with a)\n",
    "\n",
    "    c)\n",
    "    look at hilbert matrices and calculate the LU decomposition\n",
    "\n",
    "\"\"\""
   ]
  }
 ],
 "metadata": {
  "kernelspec": {
   "display_name": "science",
   "language": "python",
   "name": "python3"
  },
  "language_info": {
   "name": "python",
   "version": "3.11.5"
  }
 },
 "nbformat": 4,
 "nbformat_minor": 2
}
