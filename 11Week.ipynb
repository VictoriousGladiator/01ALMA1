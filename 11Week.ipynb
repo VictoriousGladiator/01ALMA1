{
 "cells": [
  {
   "cell_type": "markdown",
   "metadata": {},
   "source": [
    "#### Task (20 Points)"
   ]
  },
  {
   "cell_type": "code",
   "execution_count": 132,
   "metadata": {},
   "outputs": [],
   "source": [
    "\"\"\" \n",
    "    topic: gaussian algorithm\n",
    "\n",
    "    a) \n",
    "    implement the gauss algorithm as discussed in the lecture\n",
    "\n",
    "    b)\n",
    "    optimize it\n",
    "\n",
    "    c) \n",
    "    compare the runtime of both a) and b)\n",
    "\"\"\"\n",
    "import numpy as np\n",
    "from scipy.linalg import toeplitz\n",
    "import timeit\n",
    "import matplotlib.pyplot as plt\n",
    "class Vector:\n",
    "    def __init__(self, elements: list[int| float]):\n",
    "        self.vector = np.array(elements,dtype=np.float64)\n",
    "\n",
    "    def __getitem__(self, ind):\n",
    "        return self.vector[ind]\n",
    "\n",
    "    def __setitem__(self, ind, value):\n",
    "        self.vector[ind] = value\n",
    "\n",
    "    def __str__(self):\n",
    "        return f\"Vector(\\n{self.vector}\\n)\"\n",
    "\n",
    "    def __len__(self):\n",
    "        return len(self.vector)\n",
    "\n",
    "    def transpose(self):\n",
    "        return Vector(self.vector.reshape(-1, 1))\n",
    "\n",
    "class Matrix:\n",
    "    def __init__(self, rows: list[list[int|float]]):\n",
    "        self.rows = np.array(rows,dtype=np.float64)\n",
    "        self.shape = self.rows.shape\n",
    "        if not self.is_quadratic():\n",
    "            raise ValueError(f\"Non-Quadratic Matrix: {self.shape}\")\n",
    "\n",
    "    def __getitem__(self, ind):\n",
    "        row,col = ind \n",
    "        return self.rows[row, col]\n",
    "\n",
    "    def __setitem__(self, ind, value):\n",
    "        row,col = ind\n",
    "        self.rows[row, col] = value\n",
    "\n",
    "    def __str__(self):\n",
    "        matrix_str = \"\\n\".join(\" \".join(\"{:<5}\".format(str(elem)) for elem in row) for row in self.rows)\n",
    "        return f\"Matrix(\\n{matrix_str}\\n)\"\n",
    "\n",
    "    def __len__(self):\n",
    "        return self.shape[1]\n",
    "\n",
    "    def is_quadratic(self):\n",
    "        return self.shape[0] == self.shape[1]\n",
    "    \n",
    "class Gauss:\n",
    "    def __init__(self,A:list,b:list):\n",
    "        self.A = Matrix(A)\n",
    "        self.b = Vector(b)\n",
    "        if not len(self.A) == len(self.b):\n",
    "            raise ValueError(\"INVALID --- Wrong Dimensions --- INVALID\")\n",
    "        else:\n",
    "            self.dim = len(self.b)\n",
    "        self.x = np.zeros(self.dim,dtype=np.float64)\n",
    "\n",
    "    def normal_algorithm(self):\n",
    "        for k in np.arange(self.dim - 1):\n",
    "            for j in np.arange(k + 1, self.dim):\n",
    "                l_jk = self.A[j, k] / self.A[k, k]\n",
    "                self.b[j] -= l_jk * self.b[k]\n",
    "                for i in np.arange(k + 1, self.dim):\n",
    "                    self.A[j, i] -= l_jk * self.A[k, i]\n",
    "\n",
    "        for i in np.arange(self.dim - 1, -1, -1):\n",
    "            total = 0\n",
    "            for k in np.arange(i + 1, self.dim):\n",
    "                total += self.A[i, k] * self.x[k]\n",
    "            self.x[i] = (self.b[i] - total) / self.A[i, i]\n",
    "\n",
    "        return Vector(self.x)\n",
    "    \n",
    "    def optimized(self):\n",
    "        for k in np.arange(self.dim - 1):\n",
    "            j_range = np.arange(k + 1, self.dim)\n",
    "            l_jk = self.A[j_range, k] / self.A[k, k]\n",
    "            self.b[j_range] -= l_jk * self.b[k]\n",
    "            self.A[j_range, k+1:] -= np.outer(l_jk, self.A[k, k+1:])\n",
    "\n",
    "        for i in np.arange(self.dim - 1, -1, -1):\n",
    "            k_range = np.arange(i + 1, self.dim)\n",
    "            total = np.sum(self.A[i, k_range] * self.x[k_range])\n",
    "            self.x[i] = (self.b[i] - total) / self.A[i, i]\n",
    "\n",
    "        return Vector(self.x)\n",
    "    \n",
    "    def runtime(self,MAX):\n",
    "        RANGE = np.arange(1,MAX+1)\n",
    "        y_normal = list()\n",
    "        y_opt = list()\n",
    "        for max in RANGE:\n",
    "            n = Vector(np.arange(max,-1,-1)).transpose()\n",
    "            b = Vector(np.ones(max+1))\n",
    "            t = toeplitz(n)\n",
    "\n",
    "            y1 = timeit.timeit(lambda: Gauss(t,b).normal_algorithm(),number=1)\n",
    "            y_normal.append(y1)\n",
    "\n",
    "            y2 = timeit.timeit(lambda: Gauss(t,b).optimized(),number=1)\n",
    "            y_opt.append(y2)\n",
    "        plt.loglog(RANGE, y_normal, label='Naive Algorithm')\n",
    "        plt.loglog(RANGE, y_opt, label='Optimized Algorithm')\n",
    "\n",
    "        plt.xlabel('Input Size (n)')\n",
    "        plt.ylabel('Execution Time (seconds)')\n",
    "        plt.legend()\n",
    "        plt.show()"
   ]
  },
  {
   "cell_type": "code",
   "execution_count": 133,
   "metadata": {},
   "outputs": [],
   "source": [
    "A = [[3,-1,5,-2],[-3,4,-1,7],[-12,10,-11,16],[3,5,17,2]]\n",
    "b = [13,3,-20,47]\n",
    "g = Gauss(A,b)"
   ]
  },
  {
   "cell_type": "code",
   "execution_count": 84,
   "metadata": {},
   "outputs": [
    {
     "name": "stdout",
     "output_type": "stream",
     "text": [
      "Vector(\n",
      "[[2.]\n",
      " [1.]\n",
      " [2.]\n",
      " [1.]]\n",
      ")\n"
     ]
    }
   ],
   "source": [
    "print(g.normal_algorithm().transpose())"
   ]
  },
  {
   "cell_type": "code",
   "execution_count": 95,
   "metadata": {},
   "outputs": [
    {
     "name": "stdout",
     "output_type": "stream",
     "text": [
      "Vector(\n",
      "[[2.]\n",
      " [1.]\n",
      " [2.]\n",
      " [1.]]\n",
      ")\n"
     ]
    }
   ],
   "source": [
    "print(g.optimized().transpose())"
   ]
  },
  {
   "cell_type": "code",
   "execution_count": 25,
   "metadata": {},
   "outputs": [
    {
     "name": "stdout",
     "output_type": "stream",
     "text": [
      "Matrix(\n",
      "3     -1    5     -2   \n",
      "-3    3     4     5    \n",
      "-12   6     1     -2   \n",
      "3     6     4     2    \n",
      ")\n"
     ]
    }
   ],
   "source": [
    "print(g.A)"
   ]
  },
  {
   "cell_type": "code",
   "execution_count": 26,
   "metadata": {},
   "outputs": [
    {
     "name": "stdout",
     "output_type": "stream",
     "text": [
      "Vector(\n",
      "[[13]\n",
      " [16]\n",
      " [ 0]\n",
      " [ 2]]\n",
      ")\n"
     ]
    }
   ],
   "source": [
    "print(g.b.transpose())"
   ]
  },
  {
   "cell_type": "code",
   "execution_count": 140,
   "metadata": {},
   "outputs": [
    {
     "data": {
      "image/png": "[encoded data removed]",
      "text/plain": [
       "<Figure size 640x480 with 1 Axes>"
      ]
     },
     "metadata": {},
     "output_type": "display_data"
    }
   ],
   "source": [
    "g.runtime(50)"
   ]
  }
 ],
 "metadata": {
  "kernelspec": {
   "display_name": "science",
   "language": "python",
   "name": "python3"
  },
  "language_info": {
   "codemirror_mode": {
    "name": "ipython",
    "version": 3
   },
   "file_extension": ".py",
   "mimetype": "text/x-python",
   "name": "python",
   "nbconvert_exporter": "python",
   "pygments_lexer": "ipython3",
   "version": "3.11.5"
  }
 },
 "nbformat": 4,
 "nbformat_minor": 2
}
