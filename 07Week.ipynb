{
 "cells": [
  {
   "cell_type": "markdown",
   "metadata": {},
   "source": [
    "##### Task 1 (8 Points)"
   ]
  },
  {
   "cell_type": "code",
   "execution_count": 21,
   "metadata": {},
   "outputs": [],
   "source": [
    "\"\"\"\n",
    "    topic: Paths in triangles\n",
    "\n",
    "    a)\n",
    "    Implement an algorithm that constructs such a triangle with a depth of d and stores it as a list of length n.\n",
    "    choose numbers from 0, ..., 99 for the entries\n",
    "\n",
    "    b) \n",
    "    Implement an algorithm with a runtime of O(n) that calculates the shortest path in a triangular structure. \n",
    "    In this context, the length of a path is determined by summing the values of all visited points in the triangle. \n",
    "    Movement options are limited to going up left or up right from a given point within the triangle.\n",
    "\n",
    "\"\"\"\n",
    "import numpy as np\n",
    "import math\n",
    "def build_triangle(depth):\n",
    "    number = np.arange(1, depth + 2)\n",
    "    return np.random.randint(0,100,size=np.sum(number))\n",
    "def find_depth(index):\n",
    "    #########################################################\n",
    "    # why does this work? \n",
    "    # given a depth d we have d+1 elements on each layer.\n",
    "    # the total number of all elements n is then defined as:\n",
    "    # (*)   [(d+1) * (d+2)] / 2\n",
    "    # this means I only have to solve\n",
    "    #       n = (*)\n",
    "    # \n",
    "    #########################################################\n",
    "    return int((-1 + math.sqrt(1 + 8*index)) // 2)\n",
    "def parents(index):\n",
    "    d       = find_depth(index=index)\n",
    "    left    = index - d\n",
    "    right   = index - (d + 1)\n",
    "    if find_depth(index + 1) == d and find_depth(index - 1) == d:\n",
    "        return d, left, right\n",
    "    elif find_depth(index + 1) != d:\n",
    "        return d, left\n",
    "    else:\n",
    "        return d, right\n",
    "def update_distance():\n",
    "    pass\n",
    "def min_path(depth):\n",
    "    triangle = build_triangle(depth=depth)\n",
    "    pass"
   ]
  },
  {
   "cell_type": "markdown",
   "metadata": {},
   "source": [
    "##### Task 2 (12 Points)"
   ]
  },
  {
   "cell_type": "code",
   "execution_count": null,
   "metadata": {},
   "outputs": [],
   "source": [
    "\"\"\" \n",
    "    topic: graphs\n",
    "\n",
    "    a)\n",
    "    Implement and utilize a Graph class for constructing a graph. \n",
    "    The class should include functionality for adding edges both through the add_edge() method and from a file named graph.txt. \n",
    "    The file format is expected to have the number of vertices in the first row, followed by edge information below it.\n",
    "\n",
    "    b) \n",
    "    Implement the number_of_neighbors() function within the Node class.\n",
    "\n",
    "    c)\n",
    "    Implement the is_simple() function  within Graph class.\n",
    "\n",
    "    d) \n",
    "    Implement the adjancency_matrix() function within Graph class.\n",
    "    Store the adjacency matrix as an ndarray.\n",
    "\"\"\"\n",
    "\n",
    "\n"
   ]
  }
 ],
 "metadata": {
  "kernelspec": {
   "display_name": "science",
   "language": "python",
   "name": "python3"
  },
  "language_info": {
   "codemirror_mode": {
    "name": "ipython",
    "version": 3
   },
   "file_extension": ".py",
   "mimetype": "text/x-python",
   "name": "python",
   "nbconvert_exporter": "python",
   "pygments_lexer": "ipython3",
   "version": "3.11.5"
  }
 },
 "nbformat": 4,
 "nbformat_minor": 2
}
