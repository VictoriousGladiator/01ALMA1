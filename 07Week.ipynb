{
 "cells": [
  {
   "cell_type": "markdown",
   "metadata": {},
   "source": [
    "##### Task 1 (8 Points)"
   ]
  },
  {
   "cell_type": "code",
   "execution_count": 48,
   "metadata": {},
   "outputs": [],
   "source": [
    "\"\"\"\n",
    "    topic: Paths in triangles\n",
    "\n",
    "    a)\n",
    "    Implement an algorithm that constructs such a triangle with a depth of d and stores it as a list of length n.\n",
    "    choose numbers from 0, ..., 99 for the entries\n",
    "\n",
    "    b) \n",
    "    Implement an algorithm with a runtime of O(n) that calculates the shortest path in a triangular structure. \n",
    "    In this context, the length of a path is determined by summing the values of all visited points in the triangle. \n",
    "    Movement options are limited to going up left or up right from a given point within the triangle.\n",
    "\n",
    "\"\"\"\n",
    "import numpy as np\n",
    "import math\n",
    "\n",
    "def build_triangle(depth):\n",
    "    number = np.arange(1, depth + 2)\n",
    "    return np.random.randint(0, 100, size=np.sum(number))\n",
    "\n",
    "def min_path(depth):\n",
    "    print(\"We generate a triangle in form a list with random values\")\n",
    "    triangle = build_triangle(depth=depth)\n",
    "    print(triangle)\n",
    "    print(\"\\n\")\n",
    "    \n",
    "    print(\"Here we initialize a matrix with zeros for n x n\")\n",
    "    print(\"(n = depth + 1)\")\n",
    "    triangle_array = np.zeros((depth + 1, depth + 1))\n",
    "    print(triangle_array)\n",
    "    print(\"\\n\")\n",
    "\n",
    "    print(\"np.tri(...) is a useful method for generating a matrix with 1's at and below the diagonal and zeros everywhere else\")\n",
    "    mask = np.tri(depth + 1,dtype=bool)\n",
    "    print(mask)\n",
    "    print(\"\\n\")\n",
    "\n",
    "    print(\"we use the mask to assign the values from the generated triangle in the beginning\")\n",
    "    triangle_array[mask] = triangle\n",
    "    print(triangle_array)\n",
    "    print(\"\\n\")\n",
    "    \n",
    "    for i in range(depth - 1, -1, -1):\n",
    "        for j in range(i + 1):\n",
    "            triangle_array[i, j] += min(triangle_array[i + 1, j], triangle_array[i + 1, j + 1])\n",
    "        print(triangle_array)\n",
    "        print(\"\\n\")\n",
    "\n",
    "    return triangle_array[0, 0]\n"
   ]
  },
  {
   "cell_type": "code",
   "execution_count": 49,
   "metadata": {},
   "outputs": [
    {
     "name": "stdout",
     "output_type": "stream",
     "text": [
      "We generate a triangle in form a list with random values\n",
      "[20 37 85 10  9 42]\n",
      "\n",
      "\n",
      "Here we initialize a matrix with zeros for n x n\n",
      "(n = depth + 1)\n",
      "[[0. 0. 0.]\n",
      " [0. 0. 0.]\n",
      " [0. 0. 0.]]\n",
      "\n",
      "\n",
      "np.tri(...) is a useful method for generating a matrix with 1's at and below the diagonal and zeros everywhere else\n",
      "[[ True False False]\n",
      " [ True  True False]\n",
      " [ True  True  True]]\n",
      "\n",
      "\n",
      "we use the mask to assign the values from the generated triangle in the beginning\n",
      "[[20.  0.  0.]\n",
      " [37. 85.  0.]\n",
      " [10.  9. 42.]]\n",
      "\n",
      "\n",
      "[[20.  0.  0.]\n",
      " [46. 94.  0.]\n",
      " [10.  9. 42.]]\n",
      "\n",
      "\n",
      "[[66.  0.  0.]\n",
      " [46. 94.  0.]\n",
      " [10.  9. 42.]]\n",
      "\n",
      "\n"
     ]
    },
    {
     "data": {
      "text/plain": [
       "66.0"
      ]
     },
     "execution_count": 49,
     "metadata": {},
     "output_type": "execute_result"
    }
   ],
   "source": [
    "min_path(2)"
   ]
  },
  {
   "cell_type": "markdown",
   "metadata": {},
   "source": [
    "##### Task 2 (12 Points)"
   ]
  },
  {
   "cell_type": "code",
   "execution_count": 106,
   "metadata": {},
   "outputs": [],
   "source": [
    "\"\"\" \n",
    "    topic: graphs\n",
    "\n",
    "    a)\n",
    "    Implement and utilize a Graph class for constructing a graph. \n",
    "    The class should include functionality for adding edges both through the add_edge() method and from a file named graph.txt. \n",
    "    The file format is expected to have the number of vertices in the first row, followed by edge information below it.\n",
    "\n",
    "    b) \n",
    "    Implement the number_of_neighbors() function within the Node class.\n",
    "\n",
    "    c)\n",
    "    Implement the is_simple() function  within Graph class.\n",
    "\n",
    "    d) \n",
    "    Implement the adjancency_matrix() function within Graph class.\n",
    "    Store the adjacency matrix as an ndarray.\n",
    "\"\"\"\n",
    "\n",
    "\n",
    "class Graph:\n",
    "    invalid_node = -1\n",
    "\n",
    "    def __init__(self, numorfile, directed = False):\n",
    "        self._directed = directed\n",
    "        if type(numorfile) == int:\n",
    "            self._nodes = [self.Node() for i in range(numorfile)]\n",
    "        elif type(numorfile)  == str:\n",
    "            with open(numorfile, \"r\") as file:\n",
    "                numnodes = int(file.readline())\n",
    "                self._nodes = [self.Node() for i in range(numnodes)]\n",
    "                for line in file:\n",
    "                    tail = int(line.split()[0])\n",
    "                    head = int(line.split()[1])\n",
    "                    if tail != head:\n",
    "                        self.add_edge(tail, head)\n",
    "                    else:\n",
    "                        raise RuntimeError(\"Invalid file format: loops not allowed\")\n",
    "        else:\n",
    "            raise NotImplementedError(\"Type of Argument not allowed\")\n",
    "\n",
    "    def num_nodes(self):\n",
    "        return len(self._nodes)\n",
    "\n",
    "    def add_nodes(self, num_new_nodes):\n",
    "        self._nodes.extend([self.Node() for i in range(num_new_nodes)])\n",
    "\n",
    "    def add_edge(self, tail, head):\n",
    "        if (tail >= self.num_nodes() or tail < 0 or head >= self.num_nodes() or head <0):\n",
    "            raise ValueError(\"Edge cannot be added due to undefined endpoint\")\n",
    "        self._nodes[tail].add_neighbor(head)\n",
    "        if not self._directed:\n",
    "           self._nodes[head].add_neighbor(tail)\n",
    "\n",
    "    def get_node(self, nodeId):\n",
    "        if (nodeId <0 or nodeId >= self.num_nodes()):\n",
    "            raise ValueError(\"Invalid nodeId\")\n",
    "        return self._nodes[nodeId]\n",
    "\n",
    "    def __str__(self): #for printing\n",
    "        out = \"\"\n",
    "        if self._directed:\n",
    "            out +=\"Digraph \"\n",
    "        else:\n",
    "            out +=\"Undirected Graph \"\n",
    "        out +=\"with {} vertices, numbered 0, ..., {}\\n\".format(self.num_nodes(), self.num_nodes()-1)\n",
    "        for nodeId in range(self.num_nodes()):\n",
    "            if self._directed:\n",
    "                s = \"leaving\"\n",
    "            else:\n",
    "                s = \"incident to\"\n",
    "            out +=\"The following edges are \"+ s +\" vertex {}:\\n\".format(nodeId)\n",
    "            for neighbor in self._nodes[nodeId].adjacent_nodes():\n",
    "                out +=\"{} - {}\\n\".format(nodeId, neighbor.id())\n",
    "        return out\n",
    "    ############### c ###############\n",
    "    def is_simple(self):\n",
    "        edges = [element for element in self.__str__().split(\"\\n\")[1:-1] if \"-\" in element]\n",
    "        return len(set(edges)) == len(edges)\n",
    "    ############### d ###############\n",
    "    def adjancency_matrix(self):\n",
    "        num_nodes = self.num_nodes()\n",
    "        matrix = [[0] * num_nodes for _ in range(num_nodes)]\n",
    "\n",
    "        for nodeId in range(num_nodes):\n",
    "            neighbors = self._nodes[nodeId].adjacent_nodes()\n",
    "            for neighbor in neighbors:\n",
    "                matrix[nodeId][neighbor.id()] = 1\n",
    "        return np.array(matrix)\n",
    "\n",
    "\n",
    "    class Node:\n",
    "        def __init__(self):\n",
    "            self._neighbors = []\n",
    "\n",
    "        def add_neighbor(self, nodeId):\n",
    "            self._neighbors.append(Graph.Neighbor(nodeId))\n",
    "\n",
    "        def adjacent_nodes(self):\n",
    "            return self._neighbors\n",
    "        ############### b ###############\n",
    "        def number_of_neighbors(self):\n",
    "            return len(self._neighbors)\n",
    "\n",
    "    class Neighbor:\n",
    "        def __init__(self, nodeId):\n",
    "            self._id = nodeId\n",
    "\n",
    "        def id(self):\n",
    "            return self._id\n"
   ]
  },
  {
   "cell_type": "code",
   "execution_count": 59,
   "metadata": {},
   "outputs": [
    {
     "data": {
      "text/plain": [
       "<__main__.Graph at 0x109b43290>"
      ]
     },
     "execution_count": 59,
     "metadata": {},
     "output_type": "execute_result"
    }
   ],
   "source": [
    "############### a ###############\n",
    "file = \"./graph.txt\"\n",
    "Graph(file,directed=True)"
   ]
  },
  {
   "cell_type": "code",
   "execution_count": 107,
   "metadata": {},
   "outputs": [],
   "source": [
    "g = Graph(6,directed=True)"
   ]
  },
  {
   "cell_type": "code",
   "execution_count": 108,
   "metadata": {},
   "outputs": [],
   "source": [
    "g.add_edge(0,1)\n",
    "g.add_edge(1,5)\n",
    "g.add_edge(5,0)\n",
    "g.add_edge(4,0)\n",
    "g.add_edge(3,4)"
   ]
  },
  {
   "cell_type": "code",
   "execution_count": 111,
   "metadata": {},
   "outputs": [
    {
     "data": {
      "text/plain": [
       "array([[0, 1, 0, 0, 0, 0],\n",
       "       [0, 0, 0, 0, 0, 1],\n",
       "       [0, 0, 0, 0, 0, 0],\n",
       "       [0, 0, 0, 0, 1, 0],\n",
       "       [1, 0, 0, 0, 0, 0],\n",
       "       [1, 0, 0, 0, 0, 0]])"
      ]
     },
     "execution_count": 111,
     "metadata": {},
     "output_type": "execute_result"
    }
   ],
   "source": [
    "g.adjancency_matrix()"
   ]
  }
 ],
 "metadata": {
  "kernelspec": {
   "display_name": "science",
   "language": "python",
   "name": "python3"
  },
  "language_info": {
   "codemirror_mode": {
    "name": "ipython",
    "version": 3
   },
   "file_extension": ".py",
   "mimetype": "text/x-python",
   "name": "python",
   "nbconvert_exporter": "python",
   "pygments_lexer": "ipython3",
   "version": "3.11.5"
  }
 },
 "nbformat": 4,
 "nbformat_minor": 2
}
