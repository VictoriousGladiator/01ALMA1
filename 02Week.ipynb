{
 "cells": [
  {
   "cell_type": "markdown",
   "metadata": {},
   "source": [
    "##### Task 1 (7 Points)"
   ]
  },
  {
   "cell_type": "code",
   "execution_count": 39,
   "metadata": {},
   "outputs": [],
   "source": [
    "\"\"\"\n",
    "    Input:  m, n  ∈ N \\ {0}\n",
    "    Output: q, r  with r < n\n",
    "\n",
    "    Implement modulo operation using only:\n",
    "        - control structures\n",
    "        - addition, subtraction\n",
    "        - logic to control that only positive numbers are used\n",
    "\n",
    "\"\"\"\n",
    "def mod(m,n):\n",
    "    assert(m > 0 and n > 0)\n",
    "    counter = 0\n",
    "    for _ in range(m):\n",
    "      q -= m - n\n",
    "      print(\"q: \", q)\n",
    "      if q <= 0:\n",
    "         r = q + n\n",
    "         break\n",
    "      counter += 1\n",
    "      print(\"ctr: \",n)\n",
    "    print(f\"{m} = {q} * {counter} + {r} \\n\\nwith\\nq: {q}\\nr: {r}\\n\")"
   ]
  },
  {
   "cell_type": "code",
   "execution_count": 42,
   "metadata": {},
   "outputs": [
    {
     "name": "stdout",
     "output_type": "stream",
     "text": [
      "Starting with 17 / 5:\n",
      "17 >= 5, subtracting...\n",
      "Current quotient: 1, Current remainder: 12\n",
      "12 >= 5, subtracting...\n",
      "Current quotient: 2, Current remainder: 7\n",
      "7 >= 5, subtracting...\n",
      "Current quotient: 3, Current remainder: 2\n",
      "Calculation complete.\n",
      "17 = 5 * 3 + 2\n"
     ]
    }
   ],
   "source": [
    "def custom_modulo_with_intermediary_results(dividend, divisor):\n",
    "    if divisor == 0:\n",
    "        raise ValueError(\"Division by zero is not allowed\")\n",
    "\n",
    "    q = 0  # Initialize the quotient to 0\n",
    "    r = dividend  # Initialize the remainder to the dividend\n",
    "\n",
    "    print(f\"Starting with {dividend} / {divisor}:\")\n",
    "    while r >= divisor:\n",
    "        print(f\"{r} >= {divisor}, subtracting...\")\n",
    "        r -= divisor\n",
    "        q += 1\n",
    "        print(f\"Current quotient: {q}, Current remainder: {r}\")\n",
    "\n",
    "    print(\"Calculation complete.\")\n",
    "\n",
    "    return q, r\n",
    "\n",
    "# Example usage:\n",
    "dividend = 17\n",
    "divisor = 5\n",
    "quotient, remainder = custom_modulo_with_intermediary_results(dividend, divisor)\n",
    "print(f\"{dividend} = {divisor} * {quotient} + {remainder}\")\n"
   ]
  },
  {
   "cell_type": "markdown",
   "metadata": {},
   "source": [
    "##### Task 2 (5 + 4 + 4 Points)"
   ]
  },
  {
   "cell_type": "code",
   "execution_count": 500,
   "metadata": {},
   "outputs": [],
   "source": [
    "\"\"\" \n",
    "    Input:  polynomial<list>\n",
    "\n",
    "    Implementation of Working with Polynomials\n",
    "    a)  print the polynomial\n",
    "\n",
    "    b)  return the derivative for a given polynomial\n",
    "\n",
    "    c)  return the evaluation for a given x\n",
    "\"\"\"\n",
    "\n",
    "class Polynomial:\n",
    "    def __init__(self,polyonomial:list):\n",
    "        self.polynomial = polyonomial[::-1]\n",
    "    \n",
    "    def __str__(self):\n",
    "        degree = len(self.polynomial) - 1\n",
    "        result = \"\"\n",
    "        for index, coefficient in enumerate(self.polynomial):\n",
    "            if coefficient == 0:\n",
    "                continue\n",
    "            else:\n",
    "                sign = '+' if coefficient > 0 else '-'\n",
    "                if index == degree:\n",
    "                    result += f\" {sign} {abs(coefficient)}\"\n",
    "                else:\n",
    "                    result += f\" {sign} {abs(coefficient)}x^{degree - index}\"\n",
    "        if self.polynomial[0] < 0:\n",
    "            return result\n",
    "        else:\n",
    "            return result[3:]\n",
    "\n",
    "    def poly_ableitung(self):\n",
    "        self.polynomial = [coefficient * (index) for index,coefficient in enumerate(self.polynomial[::-1])][::-1]\n",
    "        self.polynomial.pop()\n",
    "\n",
    "        print(self.polynomial)\n",
    "\n",
    "    def poly_auswertung(self,x):\n",
    "        degree = len(self.polynomial) - 1\n",
    "        result = 0\n",
    "        for index, coefficient in enumerate(self.polynomial):\n",
    "            result += coefficient * x ** (degree - index)\n",
    "        return result"
   ]
  }
 ],
 "metadata": {
  "kernelspec": {
   "display_name": "base",
   "language": "python",
   "name": "python3"
  },
  "language_info": {
   "codemirror_mode": {
    "name": "ipython",
    "version": 3
   },
   "file_extension": ".py",
   "mimetype": "text/x-python",
   "name": "python",
   "nbconvert_exporter": "python",
   "pygments_lexer": "ipython3",
   "version": "3.10.12"
  }
 },
 "nbformat": 4,
 "nbformat_minor": 2
}
