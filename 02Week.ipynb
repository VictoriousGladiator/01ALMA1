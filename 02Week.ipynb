{
 "cells": [
  {
   "cell_type": "markdown",
   "metadata": {},
   "source": [
    "##### Task 1 (7 Points)"
   ]
  },
  {
   "cell_type": "code",
   "execution_count": null,
   "metadata": {},
   "outputs": [],
   "source": [
    "\"\"\"\n",
    "    Input:  m, n  ∈ N \\ {0}\n",
    "    Output: q, r  with r < n\n",
    "\n",
    "    Implement modulo operation using only:\n",
    "        - controlstructures\n",
    "        - addition, subtraction\n",
    "        - logic to control that only positive numbers are used\n",
    "\n",
    "\"\"\""
   ]
  },
  {
   "cell_type": "markdown",
   "metadata": {},
   "source": [
    "##### Task 2 (5 + 4 + 4 Points)"
   ]
  },
  {
   "cell_type": "code",
   "execution_count": null,
   "metadata": {},
   "outputs": [],
   "source": [
    "\"\"\" \n",
    "    Input:  polynomial<list>\n",
    "\n",
    "    Implementation of Working with Polynomials\n",
    "    a)  print the polynomial\n",
    "\n",
    "    b)  return the derivative for a given polynomial\n",
    "\n",
    "    c)  return the evaluation for a given x\n",
    "\"\"\""
   ]
  }
 ],
 "metadata": {
  "kernelspec": {
   "display_name": "base",
   "language": "python",
   "name": "python3"
  },
  "language_info": {
   "name": "python",
   "version": "3.10.12"
  }
 },
 "nbformat": 4,
 "nbformat_minor": 2
}
