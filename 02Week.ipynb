{
 "cells": [
  {
   "cell_type": "markdown",
   "metadata": {},
   "source": [
    "##### Task 1 (7 Points)"
   ]
  },
  {
   "cell_type": "code",
   "execution_count": 47,
   "metadata": {},
   "outputs": [],
   "source": [
    "\"\"\"\n",
    "    Input:  m, n  ∈ N \\ {0}\n",
    "    Output: q, r  with r < n\n",
    "\n",
    "    Implement modulo operation using only:\n",
    "        - control structures\n",
    "        - addition, subtraction\n",
    "        - logic to control that only positive numbers are used\n",
    "\n",
    "\"\"\"\n",
    "def mod(m,n):\n",
    "    if  n < 0 or m < 0:\n",
    "        raise ValueError(\"Only positive numbers allowed\")\n",
    "    if n == 0:\n",
    "        raise ValueError(\"Division by zero is not allowed\")\n",
    "    \n",
    "    q = 0  \n",
    "    r = m  \n",
    "\n",
    "    print(f\"Starting with {m} / {n}:\")\n",
    "    while r >= n:\n",
    "        print(f\"{r} >= {n}, subtracting...\")\n",
    "        r -= n\n",
    "        q += 1\n",
    "        print(f\"Current quotient: {q}, Current remainder: {r}\")\n",
    "\n",
    "    print(\"Calculation complete.\")\n",
    "    print(f\"{m} = {n} * {q} + {r}\")\n",
    "    return q, r"
   ]
  },
  {
   "cell_type": "code",
   "execution_count": 48,
   "metadata": {},
   "outputs": [
    {
     "name": "stdout",
     "output_type": "stream",
     "text": [
      "Starting with 10 / 5:\n",
      "10 >= 5, subtracting...\n",
      "Current quotient: 1, Current remainder: 5\n",
      "5 >= 5, subtracting...\n",
      "Current quotient: 2, Current remainder: 0\n",
      "Calculation complete.\n",
      "10 = 5 * 2 + 0\n"
     ]
    },
    {
     "data": {
      "text/plain": [
       "(2, 0)"
      ]
     },
     "execution_count": 48,
     "metadata": {},
     "output_type": "execute_result"
    }
   ],
   "source": [
    "mod(10,5)"
   ]
  },
  {
   "cell_type": "markdown",
   "metadata": {},
   "source": [
    "##### Task 2 (5 + 4 + 4 Points)"
   ]
  },
  {
   "cell_type": "code",
   "execution_count": 1,
   "metadata": {},
   "outputs": [],
   "source": [
    "\"\"\" \n",
    "    Input:  polynomial<list>\n",
    "\n",
    "    Implementation of Working with Polynomials\n",
    "    a)  print the polynomial\n",
    "\n",
    "    b)  return the derivative for a given polynomial\n",
    "\n",
    "    c)  return the evaluation for a given x\n",
    "\"\"\"\n",
    "\n",
    "class Polynomial:\n",
    "    def __init__(self,polyonomial:list):\n",
    "        self.polynomial = polyonomial[::-1]\n",
    "    \n",
    "    def __str__(self):\n",
    "        degree = len(self.polynomial) - 1\n",
    "        result = \"\"\n",
    "        for index, coefficient in enumerate(self.polynomial):\n",
    "            if coefficient == 0:\n",
    "                continue\n",
    "            else:\n",
    "                sign = '+' if coefficient > 0 else '-'\n",
    "                if index == degree:\n",
    "                    result += f\" {sign} {abs(coefficient)}\"\n",
    "                else:\n",
    "                    result += f\" {sign} {abs(coefficient)}x^{degree - index}\"\n",
    "        if self.polynomial[0] < 0:\n",
    "            return result\n",
    "        else:\n",
    "            return result[3:]\n",
    "\n",
    "    def poly_ableitung(self):\n",
    "        self.polynomial = [coefficient * (index) for index,coefficient in enumerate(self.polynomial[::-1])][::-1]\n",
    "        self.polynomial.pop()\n",
    "\n",
    "        print(self.polynomial)\n",
    "\n",
    "    def poly_auswertung(self,x):\n",
    "        degree = len(self.polynomial) - 1\n",
    "        result = 0\n",
    "        for index, coefficient in enumerate(self.polynomial):\n",
    "            result += coefficient * x ** (degree - index)\n",
    "        return result"
   ]
  },
  {
   "cell_type": "code",
   "execution_count": 4,
   "metadata": {},
   "outputs": [],
   "source": [
    "c = [0,-1,0,-1,1]\n",
    "p = Polynomial(c)"
   ]
  },
  {
   "cell_type": "code",
   "execution_count": 5,
   "metadata": {},
   "outputs": [
    {
     "name": "stdout",
     "output_type": "stream",
     "text": [
      "1x^4 - 1x^3 - 1x^1\n"
     ]
    }
   ],
   "source": [
    "print(p)"
   ]
  },
  {
   "cell_type": "markdown",
   "metadata": {},
   "source": [
    "##### Euclidean Algorithm"
   ]
  },
  {
   "cell_type": "code",
   "execution_count": 1,
   "metadata": {},
   "outputs": [],
   "source": [
    "def euclid(m,n):\n",
    "    if n == 0:\n",
    "        return m\n",
    "    else:\n",
    "        return euclid(n,m%n)"
   ]
  },
  {
   "cell_type": "code",
   "execution_count": 8,
   "metadata": {},
   "outputs": [
    {
     "data": {
      "text/plain": [
       "3"
      ]
     },
     "execution_count": 8,
     "metadata": {},
     "output_type": "execute_result"
    }
   ],
   "source": [
    "euclid(12,9)"
   ]
  }
 ],
 "metadata": {
  "kernelspec": {
   "display_name": "base",
   "language": "python",
   "name": "python3"
  },
  "language_info": {
   "codemirror_mode": {
    "name": "ipython",
    "version": 3
   },
   "file_extension": ".py",
   "mimetype": "text/x-python",
   "name": "python",
   "nbconvert_exporter": "python",
   "pygments_lexer": "ipython3",
   "version": "3.10.12"
  }
 },
 "nbformat": 4,
 "nbformat_minor": 2
}
