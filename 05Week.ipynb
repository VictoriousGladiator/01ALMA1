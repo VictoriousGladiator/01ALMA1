{
 "cells": [
  {
   "cell_type": "markdown",
   "metadata": {},
   "source": [
    "##### Task 1 (7 Points)"
   ]
  },
  {
   "cell_type": "code",
   "execution_count": null,
   "metadata": {},
   "outputs": [],
   "source": [
    "\"\"\"\n",
    "    topic: harmonic progression\n",
    "\n",
    "    a) \n",
    "    calculate the partial sum\n",
    "    a_n = sum_i_n ( 1 / i ) \n",
    "        for n = 2^k with k in  {5, 6, ..., 27}\n",
    "        and i = 1, 2, ..., n\n",
    "    \n",
    "    transform the value with numpy.single after every operation\n",
    "\n",
    "    b) \n",
    "    similar to a), but\n",
    "        for i = n, n - 1, ..., 1\n",
    "\n",
    "    c)\n",
    "    repeat a) and b) without the transformation with numpy.single\n",
    "\n",
    "    plot the absolute error:\n",
    "        - pyplot.loglog\n",
    "\n",
    "    discuss your findings\n",
    "\n",
    "\"\"\""
   ]
  },
  {
   "cell_type": "markdown",
   "metadata": {},
   "source": [
    "##### Task 2 (8 Points)"
   ]
  },
  {
   "cell_type": "code",
   "execution_count": null,
   "metadata": {},
   "outputs": [],
   "source": [
    "\"\"\" \n",
    "    topic: horner's method\n",
    "    \n",
    "    a)\n",
    "    implement b_adisch(basis, zahl)\n",
    "\n",
    "    that transform zahl into basis-adic number system representation\n",
    "\n",
    "    for all basis >= 2\n",
    "\n",
    "    b)\n",
    "    implement hornerschema(basis, b_adische_zahl)\n",
    "\n",
    "    that converts a b_adische_zahl with basis-adic representation into a decimal representation\n",
    "\n",
    "    c)\n",
    "    how do you have to modify b) so it works on polynomials\n",
    "    \n",
    "\"\"\""
   ]
  },
  {
   "cell_type": "markdown",
   "metadata": {},
   "source": [
    "##### Task 3 (5 Points)"
   ]
  },
  {
   "cell_type": "code",
   "execution_count": null,
   "metadata": {},
   "outputs": [],
   "source": [
    "\"\"\" \n",
    "    topic: machine precision \n",
    "\n",
    "    a) \n",
    "    implement geteps()\n",
    "        set y = 1 \n",
    "        and halve y until 1 + y = 1\n",
    "\n",
    "    b)\n",
    "    implement getmax()\n",
    "        set y = 1\n",
    "        and double y until y < +INF\n",
    "\n",
    "    compare it with IEEE 754\n",
    "\n",
    "    why don't you receive the highest possible number?\n",
    "\n",
    "    c) \n",
    "    implement getmin()\n",
    "        set y = 1\n",
    "        and halve y until y = 0 \n",
    "\n",
    "    what do you notice ? \n",
    "\"\"\""
   ]
  }
 ],
 "metadata": {
  "kernelspec": {
   "display_name": "science",
   "language": "python",
   "name": "python3"
  },
  "language_info": {
   "name": "python",
   "version": "3.11.5"
  }
 },
 "nbformat": 4,
 "nbformat_minor": 2
}
