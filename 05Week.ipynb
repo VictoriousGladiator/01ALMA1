{
 "cells": [
  {
   "cell_type": "markdown",
   "metadata": {},
   "source": [
    "##### Task 1 (7 Points)"
   ]
  },
  {
   "cell_type": "code",
   "execution_count": 2,
   "metadata": {},
   "outputs": [],
   "source": [
    "\"\"\"\n",
    "    topic: harmonic progression\n",
    "\n",
    "    a) \n",
    "    calculate the partial sum\n",
    "    a_n = sum_i_n ( 1 / i ) \n",
    "        for n = 2^k with k in  {5, 6, ..., 27}\n",
    "        and i = 1, 2, ..., n\n",
    "    \n",
    "    transform the value with numpy.single after every operation\n",
    "\n",
    "    b) \n",
    "    similar to a), but\n",
    "        for i = n, n - 1, ..., 1\n",
    "\n",
    "    c)\n",
    "    repeat a) and b) without the transformation with numpy.single\n",
    "\n",
    "    plot the absolute error:\n",
    "        - pyplot.loglog\n",
    "\n",
    "    discuss your findings\n",
    "\n",
    "\"\"\"\n",
    "import numpy as np\n",
    "from tqdm import tqdm\n",
    "def partial_sum(reverse=False,transform=True):\n",
    "    print(\"initializing...\")\n",
    "    N_MAX = 2**27 #[2**k for k in range(5,27)]\n",
    "    result = 0 \n",
    "    output = np.empty((N_MAX,2))\n",
    "    if reverse:\n",
    "        R = np.arange(N_MAX,0,-1)\n",
    "        print(\"from N_MAX to 1\")\n",
    "    else:\n",
    "        R = np.arange(1,N_MAX+1)\n",
    "        print(\"from 1 to N_MAX\")\n",
    "    print(\"starting calculation...\\n\")\n",
    "    k = 5\n",
    "    for i in tqdm(R):\n",
    "        result += np.single(1/i) if transform else 1/i\n",
    "        output[i-1] = [i, result]\n",
    "    print(f\"\\nresult: {result}\\ntype: {type(result)}\\noutput: {output}\")\n",
    "    return result,output"
   ]
  },
  {
   "cell_type": "code",
   "execution_count": 4,
   "metadata": {},
   "outputs": [
    {
     "name": "stdout",
     "output_type": "stream",
     "text": [
      "initializing...\n",
      "from 1 to N_MAX\n",
      "starting calculation...\n",
      "\n"
     ]
    },
    {
     "name": "stderr",
     "output_type": "stream",
     "text": [
      "100%|██████████| 134217728/134217728 [01:26<00:00, 1560589.11it/s]"
     ]
    },
    {
     "name": "stdout",
     "output_type": "stream",
     "text": [
      "\n",
      "result: 19.29218961483823\n",
      "type: <class 'numpy.float64'>\n",
      "output: [[1.00000000e+00 1.00000000e+00]\n",
      " [2.00000000e+00 1.50000000e+00]\n",
      " [3.00000000e+00 1.83333334e+00]\n",
      " ...\n",
      " [1.34217726e+08 1.92921896e+01]\n",
      " [1.34217727e+08 1.92921896e+01]\n",
      " [1.34217728e+08 1.92921896e+01]]\n"
     ]
    },
    {
     "name": "stderr",
     "output_type": "stream",
     "text": [
      "\n"
     ]
    }
   ],
   "source": [
    "####### a #######\n",
    "a = partial_sum()"
   ]
  },
  {
   "cell_type": "code",
   "execution_count": 5,
   "metadata": {},
   "outputs": [
    {
     "name": "stdout",
     "output_type": "stream",
     "text": [
      "initializing...\n",
      "from N_MAX to 1\n",
      "starting calculation...\n",
      "\n"
     ]
    },
    {
     "name": "stderr",
     "output_type": "stream",
     "text": [
      "100%|██████████| 134217728/134217728 [01:28<00:00, 1517765.97it/s]"
     ]
    },
    {
     "name": "stdout",
     "output_type": "stream",
     "text": [
      "\n",
      "result: 19.292189609342905\n",
      "type: <class 'numpy.float64'>\n",
      "output: [[1.00000000e+00 1.92921896e+01]\n",
      " [2.00000000e+00 1.82921896e+01]\n",
      " [3.00000000e+00 1.77921896e+01]\n",
      " ...\n",
      " [1.34217726e+08 2.23517418e-08]\n",
      " [1.34217727e+08 1.49011612e-08]\n",
      " [1.34217728e+08 7.45058060e-09]]\n"
     ]
    },
    {
     "name": "stderr",
     "output_type": "stream",
     "text": [
      "\n"
     ]
    }
   ],
   "source": [
    "####### b #######\n",
    "b = partial_sum(reverse=True)"
   ]
  },
  {
   "cell_type": "code",
   "execution_count": 6,
   "metadata": {},
   "outputs": [
    {
     "name": "stdout",
     "output_type": "stream",
     "text": [
      "initializing...\n",
      "from 1 to N_MAX\n",
      "starting calculation...\n",
      "\n"
     ]
    },
    {
     "name": "stderr",
     "output_type": "stream",
     "text": [
      "100%|██████████| 134217728/134217728 [00:51<00:00, 2618766.57it/s]\n"
     ]
    },
    {
     "name": "stdout",
     "output_type": "stream",
     "text": [
      "\n",
      "result: 19.292189543745728\n",
      "type: <class 'numpy.float64'>\n",
      "output: [[1.00000000e+00 1.00000000e+00]\n",
      " [2.00000000e+00 1.50000000e+00]\n",
      " [3.00000000e+00 1.83333333e+00]\n",
      " ...\n",
      " [1.34217726e+08 1.92921895e+01]\n",
      " [1.34217727e+08 1.92921895e+01]\n",
      " [1.34217728e+08 1.92921895e+01]]\n",
      "initializing...\n",
      "from N_MAX to 1\n",
      "starting calculation...\n",
      "\n"
     ]
    },
    {
     "name": "stderr",
     "output_type": "stream",
     "text": [
      "100%|██████████| 134217728/134217728 [00:51<00:00, 2606936.68it/s]"
     ]
    },
    {
     "name": "stdout",
     "output_type": "stream",
     "text": [
      "\n",
      "result: 19.292189543744403\n",
      "type: <class 'numpy.float64'>\n",
      "output: [[1.00000000e+00 1.92921895e+01]\n",
      " [2.00000000e+00 1.82921895e+01]\n",
      " [3.00000000e+00 1.77921895e+01]\n",
      " ...\n",
      " [1.34217726e+08 2.23517420e-08]\n",
      " [1.34217727e+08 1.49011612e-08]\n",
      " [1.34217728e+08 7.45058060e-09]]\n"
     ]
    },
    {
     "name": "stderr",
     "output_type": "stream",
     "text": [
      "\n"
     ]
    }
   ],
   "source": [
    "####### c #######\n",
    "c_a = partial_sum(transform=False)\n",
    "c_b = partial_sum(reverse=True,transform=False)"
   ]
  },
  {
   "cell_type": "code",
   "execution_count": 7,
   "metadata": {},
   "outputs": [],
   "source": [
    "a = np.array(a[1])\n",
    "b = np.array(b[1])\n",
    "c_a = np.array(c_a[1])\n",
    "c_b = np.array(c_b[1])"
   ]
  },
  {
   "cell_type": "code",
   "execution_count": 11,
   "metadata": {},
   "outputs": [],
   "source": [
    "error_a = np.abs(a - c_a)\n",
    "error_b = np.abs(b - c_b)"
   ]
  },
  {
   "cell_type": "code",
   "execution_count": 17,
   "metadata": {},
   "outputs": [
    {
     "data": {
      "image/png": "[encoded data removed]",
      "text/plain": [
       "<Figure size 640x480 with 1 Axes>"
      ]
     },
     "metadata": {},
     "output_type": "display_data"
    }
   ],
   "source": [
    "import matplotlib.pyplot as plt\n",
    "\n",
    "x_values = np.arange(len(error_a))\n",
    "\n",
    "plt.loglog(x_values, error_a, label='Error A')\n",
    "\n",
    "plt.loglog(x_values, error_b, label='Error B')\n",
    "plt.legend()\n",
    "\n",
    "plt.xlabel('Index')\n",
    "plt.ylabel('Error')\n",
    "\n",
    "plt.show()\n",
    "\n"
   ]
  },
  {
   "cell_type": "markdown",
   "metadata": {},
   "source": [
    "##### Task 2 (8 Points)"
   ]
  },
  {
   "cell_type": "code",
   "execution_count": 69,
   "metadata": {},
   "outputs": [],
   "source": [
    "\"\"\" \n",
    "    topic: horner's method\n",
    "    \n",
    "    a)\n",
    "    implement b_adisch(basis, zahl)\n",
    "\n",
    "    that transform zahl into basis-adic number system representation\n",
    "\n",
    "    for all basis >= 2\n",
    "\n",
    "    b)\n",
    "    implement hornerschema(basis, b_adische_zahl)\n",
    "\n",
    "    that converts a b_adische_zahl with basis-adic representation into a decimal representation\n",
    "\n",
    "    c)\n",
    "    how do you have to modify b) so it works on polynomials\n",
    "    \n",
    "\"\"\"\n",
    "####### a #######\n",
    "def b_adisch(basis,zahl):\n",
    "    if basis < 2 or basis > 9:\n",
    "        raise ValueError(\"1 < basis < 10 \")\n",
    "    representation = \"\"\n",
    "    while zahl > 0:\n",
    "        representation += str(zahl % basis)\n",
    "        zahl = int(zahl/basis)\n",
    "    return representation[::-1]\n",
    "####### b #######\n",
    "def hornerschema(basis,b_adische_zahl:str):\n",
    "    z = 0\n",
    "    for z_i in b_adische_zahl:\n",
    "        z = z * basis + int(z_i)\n",
    "    return z\n",
    "####### c #######\n",
    "def hornerschema(basis, koeffizienten:list, b_adische_zahl:str):\n",
    "    z = 0\n",
    "    for z_i in b_adische_zahl:\n",
    "        z = z * basis + int(z_i)\n",
    "    ergebnis = 0\n",
    "    for koeff in koeffizienten:\n",
    "        ergebnis = ergebnis * z + koeff\n",
    "    return ergebnis"
   ]
  },
  {
   "cell_type": "markdown",
   "metadata": {},
   "source": [
    "##### Task 3 (5 Points)"
   ]
  },
  {
   "cell_type": "code",
   "execution_count": 11,
   "metadata": {},
   "outputs": [],
   "source": [
    "\"\"\" \n",
    "    topic: machine precision \n",
    "\n",
    "    a) \n",
    "    implement geteps()\n",
    "        set y = 1 \n",
    "        and halve y until 1 + y = 1\n",
    "\n",
    "    b)\n",
    "    implement getmax()\n",
    "        set y = 1\n",
    "        and double y until y < +INF\n",
    "\n",
    "    compare it with IEEE 754\n",
    "\n",
    "    why don't you receive the highest possible number?\n",
    "\n",
    "    c) \n",
    "    implement getmin()\n",
    "        set y = 1\n",
    "        and halve y until y = 0 \n",
    "\n",
    "    what do you notice ? \n",
    "\"\"\"\n",
    "####### a #######\n",
    "def geteps():\n",
    "    y = 1.0\n",
    "    while 1 + y != 1:\n",
    "        y /= 2\n",
    "    return y\n",
    "\n",
    "####### b #######\n",
    "def getmax():\n",
    "    y = 1.0\n",
    "    while y < float(\"inf\"):\n",
    "        y *= 2.0\n",
    "    return y\n",
    "\n",
    "####### c #######\n",
    "def getmin():\n",
    "    y = 1.0\n",
    "    while y != 0:\n",
    "        y /= 2\n",
    "    return y"
   ]
  },
  {
   "cell_type": "code",
   "execution_count": 13,
   "metadata": {},
   "outputs": [
    {
     "data": {
      "text/plain": [
       "inf"
      ]
     },
     "execution_count": 13,
     "metadata": {},
     "output_type": "execute_result"
    }
   ],
   "source": []
  }
 ],
 "metadata": {
  "kernelspec": {
   "display_name": "science",
   "language": "python",
   "name": "python3"
  },
  "language_info": {
   "codemirror_mode": {
    "name": "ipython",
    "version": 3
   },
   "file_extension": ".py",
   "mimetype": "text/x-python",
   "name": "python",
   "nbconvert_exporter": "python",
   "pygments_lexer": "ipython3",
   "version": "3.10.12"
  }
 },
 "nbformat": 4,
 "nbformat_minor": 2
}
