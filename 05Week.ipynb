{
 "cells": [
  {
   "cell_type": "markdown",
   "metadata": {},
   "source": [
    "##### Task 1 (7 Points)"
   ]
  },
  {
   "cell_type": "code",
   "execution_count": 6,
   "metadata": {},
   "outputs": [],
   "source": [
    "\"\"\"\n",
    "    topic: harmonic progression\n",
    "\n",
    "    a) \n",
    "    calculate the partial sum\n",
    "    a_n = sum_i_n ( 1 / i ) \n",
    "        for n = 2^k with k in  {5, 6, ..., 27}\n",
    "        and i = 1, 2, ..., n\n",
    "    \n",
    "    transform the value with numpy.single after every operation\n",
    "\n",
    "    b) \n",
    "    similar to a), but\n",
    "        for i = n, n - 1, ..., 1\n",
    "\n",
    "    c)\n",
    "    repeat a) and b) without the transformation with numpy.single\n",
    "\n",
    "    plot the absolute error:\n",
    "        - pyplot.loglog\n",
    "\n",
    "    discuss your findings\n",
    "\n",
    "\"\"\"\n",
    "import numpy as np\n",
    "from tqdm import tqdm\n",
    "def partial_sum(reverse=False,transform=True):\n",
    "    print(\"initializing...\")\n",
    "    N_MAX = 2**27 #[2**k for k in range(5,27)]\n",
    "    result = 0 \n",
    "    output = np.empty((N_MAX,2))\n",
    "    if reverse:\n",
    "        R = np.arange(N_MAX,0,-1)\n",
    "        print(\"from N_MAX to 1\")\n",
    "    else:\n",
    "        R = np.arange(1,N_MAX+1)\n",
    "        print(\"from 1 to N_MAX\")\n",
    "    print(\"starting calculation...\\n\")\n",
    "    k = 5\n",
    "    for i in tqdm(R):\n",
    "        result += np.single(1/i) if transform else 1/i\n",
    "        output[i-1] = [i, result]\n",
    "    print(f\"\\nresult: {result}\\ntype: {type(result)}\\noutput: {output}\")\n",
    "    return result,output"
   ]
  },
  {
   "cell_type": "code",
   "execution_count": 7,
   "metadata": {},
   "outputs": [
    {
     "name": "stdout",
     "output_type": "stream",
     "text": [
      "initializing...\n",
      "from 1 to N_MAX\n",
      "starting calculation...\n",
      "\n"
     ]
    },
    {
     "name": "stderr",
     "output_type": "stream",
     "text": [
      "100%|██████████| 134217728/134217728 [01:28<00:00, 1512812.24it/s]"
     ]
    },
    {
     "name": "stdout",
     "output_type": "stream",
     "text": [
      "\n",
      "result: 19.29218961483823\n",
      "type: <class 'numpy.float64'>\n",
      "output: [[1.00000000e+00 1.00000000e+00]\n",
      " [2.00000000e+00 1.50000000e+00]\n",
      " [3.00000000e+00 1.83333334e+00]\n",
      " ...\n",
      " [1.34217726e+08 1.92921896e+01]\n",
      " [1.34217727e+08 1.92921896e+01]\n",
      " [1.34217728e+08 1.92921896e+01]]\n"
     ]
    },
    {
     "name": "stderr",
     "output_type": "stream",
     "text": [
      "\n"
     ]
    }
   ],
   "source": [
    "####### a #######\n",
    "a = partial_sum()"
   ]
  },
  {
   "cell_type": "code",
   "execution_count": 8,
   "metadata": {},
   "outputs": [
    {
     "name": "stdout",
     "output_type": "stream",
     "text": [
      "initializing...\n",
      "from N_MAX to 1\n",
      "starting calculation...\n",
      "\n"
     ]
    },
    {
     "name": "stderr",
     "output_type": "stream",
     "text": [
      "100%|██████████| 134217728/134217728 [01:28<00:00, 1510967.39it/s]"
     ]
    },
    {
     "name": "stdout",
     "output_type": "stream",
     "text": [
      "\n",
      "result: 19.292189609342905\n",
      "type: <class 'numpy.float64'>\n",
      "output: [[1.00000000e+00 1.92921896e+01]\n",
      " [2.00000000e+00 1.82921896e+01]\n",
      " [3.00000000e+00 1.77921896e+01]\n",
      " ...\n",
      " [1.34217726e+08 2.23517418e-08]\n",
      " [1.34217727e+08 1.49011612e-08]\n",
      " [1.34217728e+08 7.45058060e-09]]\n"
     ]
    },
    {
     "name": "stderr",
     "output_type": "stream",
     "text": [
      "\n"
     ]
    }
   ],
   "source": [
    "####### b #######\n",
    "b = partial_sum(reverse=True)"
   ]
  },
  {
   "cell_type": "code",
   "execution_count": 9,
   "metadata": {},
   "outputs": [
    {
     "name": "stdout",
     "output_type": "stream",
     "text": [
      "initializing...\n",
      "from 1 to N_MAX\n",
      "starting calculation...\n",
      "\n"
     ]
    },
    {
     "name": "stderr",
     "output_type": "stream",
     "text": [
      "100%|██████████| 134217728/134217728 [00:51<00:00, 2598573.31it/s]\n"
     ]
    },
    {
     "name": "stdout",
     "output_type": "stream",
     "text": [
      "\n",
      "result: 19.292189543745728\n",
      "type: <class 'numpy.float64'>\n",
      "output: [[1.00000000e+00 1.00000000e+00]\n",
      " [2.00000000e+00 1.50000000e+00]\n",
      " [3.00000000e+00 1.83333333e+00]\n",
      " ...\n",
      " [1.34217726e+08 1.92921895e+01]\n",
      " [1.34217727e+08 1.92921895e+01]\n",
      " [1.34217728e+08 1.92921895e+01]]\n",
      "initializing...\n",
      "from N_MAX to 1\n",
      "starting calculation...\n",
      "\n"
     ]
    },
    {
     "name": "stderr",
     "output_type": "stream",
     "text": [
      "100%|██████████| 134217728/134217728 [00:51<00:00, 2621064.14it/s]"
     ]
    },
    {
     "name": "stdout",
     "output_type": "stream",
     "text": [
      "\n",
      "result: 19.292189543744403\n",
      "type: <class 'numpy.float64'>\n",
      "output: [[1.00000000e+00 1.92921895e+01]\n",
      " [2.00000000e+00 1.82921895e+01]\n",
      " [3.00000000e+00 1.77921895e+01]\n",
      " ...\n",
      " [1.34217726e+08 2.23517420e-08]\n",
      " [1.34217727e+08 1.49011612e-08]\n",
      " [1.34217728e+08 7.45058060e-09]]\n"
     ]
    },
    {
     "name": "stderr",
     "output_type": "stream",
     "text": [
      "\n"
     ]
    }
   ],
   "source": [
    "####### c #######\n",
    "c_a = partial_sum(transform=False)\n",
    "c_b = partial_sum(reverse=True,transform=False)"
   ]
  },
  {
   "cell_type": "code",
   "execution_count": 12,
   "metadata": {},
   "outputs": [],
   "source": [
    "a = np.array(a[1])\n",
    "b = np.array(b[1])\n",
    "c_a = np.array(c_a[1])\n",
    "c_b = np.array(c_b[1])"
   ]
  },
  {
   "cell_type": "code",
   "execution_count": 13,
   "metadata": {},
   "outputs": [],
   "source": [
    "error_a = a - c_a \n",
    "error_b = b - c_b"
   ]
  },
  {
   "cell_type": "code",
   "execution_count": 16,
   "metadata": {},
   "outputs": [
    {
     "name": "stderr",
     "output_type": "stream",
     "text": [
      "/opt/homebrew/Caskroom/miniforge/base/envs/science/lib/python3.11/site-packages/IPython/core/pylabtools.py:152: UserWarning: Creating legend with loc=\"best\" can be slow with large amounts of data.\n",
      "  fig.canvas.print_figure(bytes_io, **kw)\n"
     ]
    },
    {
     "data": {
      "image/png": "[encoded data removed]",
      "text/plain": [
       "<Figure size 640x480 with 1 Axes>"
      ]
     },
     "metadata": {},
     "output_type": "display_data"
    }
   ],
   "source": [
    "import matplotlib.pyplot as plt\n",
    "\n",
    "x_values = np.arange(len(error_a))\n",
    "\n",
    "plt.loglog(x_values, error_a, label='Error A')\n",
    "\n",
    "plt.loglog(x_values, error_b, label='Error B')\n",
    "\n",
    "plt.xlabel('Index')\n",
    "plt.ylabel('Error')\n",
    "plt.legend()\n",
    "\n",
    "plt.show()"
   ]
  },
  {
   "cell_type": "markdown",
   "metadata": {},
   "source": [
    "##### Task 2 (8 Points)"
   ]
  },
  {
   "cell_type": "code",
   "execution_count": null,
   "metadata": {},
   "outputs": [],
   "source": [
    "\"\"\" \n",
    "    topic: horner's method\n",
    "    \n",
    "    a)\n",
    "    implement b_adisch(basis, zahl)\n",
    "\n",
    "    that transform zahl into basis-adic number system representation\n",
    "\n",
    "    for all basis >= 2\n",
    "\n",
    "    b)\n",
    "    implement hornerschema(basis, b_adische_zahl)\n",
    "\n",
    "    that converts a b_adische_zahl with basis-adic representation into a decimal representation\n",
    "\n",
    "    c)\n",
    "    how do you have to modify b) so it works on polynomials\n",
    "    \n",
    "\"\"\""
   ]
  },
  {
   "cell_type": "markdown",
   "metadata": {},
   "source": [
    "##### Task 3 (5 Points)"
   ]
  },
  {
   "cell_type": "code",
   "execution_count": null,
   "metadata": {},
   "outputs": [],
   "source": [
    "\"\"\" \n",
    "    topic: machine precision \n",
    "\n",
    "    a) \n",
    "    implement geteps()\n",
    "        set y = 1 \n",
    "        and halve y until 1 + y = 1\n",
    "\n",
    "    b)\n",
    "    implement getmax()\n",
    "        set y = 1\n",
    "        and double y until y < +INF\n",
    "\n",
    "    compare it with IEEE 754\n",
    "\n",
    "    why don't you receive the highest possible number?\n",
    "\n",
    "    c) \n",
    "    implement getmin()\n",
    "        set y = 1\n",
    "        and halve y until y = 0 \n",
    "\n",
    "    what do you notice ? \n",
    "\"\"\""
   ]
  }
 ],
 "metadata": {
  "kernelspec": {
   "display_name": "science",
   "language": "python",
   "name": "python3"
  },
  "language_info": {
   "codemirror_mode": {
    "name": "ipython",
    "version": 3
   },
   "file_extension": ".py",
   "mimetype": "text/x-python",
   "name": "python",
   "nbconvert_exporter": "python",
   "pygments_lexer": "ipython3",
   "version": "3.11.5"
  }
 },
 "nbformat": 4,
 "nbformat_minor": 2
}
