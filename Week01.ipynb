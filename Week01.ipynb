{
 "cells": [
  {
   "cell_type": "markdown",
   "metadata": {},
   "source": [
    "##### Task 1 (6 Points)"
   ]
  },
  {
   "cell_type": "code",
   "execution_count": null,
   "metadata": {},
   "outputs": [],
   "source": [
    "\"\"\" \n",
    "    Input:  SideLength, Heigth\n",
    "    Output: Volume, Surface\n",
    "\n",
    "    To calculate the volume and surface of a pyramid: \n",
    "        - FloorArea     = SideLength * SideLength\n",
    "        - Volume        = 1/3 * FloorArea * Height\n",
    "        - HeightSide    = sqrt((Heigth * Heigth + SideLength * SideLength)\n",
    "        - MantleArea    = 2 * SideLength * HeightSide\n",
    "        - Surface       = MantleArea + FloorArea \n",
    "\"\"\"\n",
    "from math import sqrt\n",
    "def Volume(SideLength,Heigth):\n",
    "    FloorArea = SideLength**2\n",
    "    return (1/3) * FloorArea * Heigth\n",
    "\n",
    "def Surface(SideLength,Heigth):\n",
    "    FloorArea = SideLength**2\n",
    "    HeigthSide = sqrt(Heigth**2 + (SideLength/2)**2)\n",
    "    MantleArea = 2 * SideLength * HeigthSide\n",
    "    return MantleArea + FloorArea\n",
    "try:\n",
    "    SideLength = float(input(\"SideLength:\"))\n",
    "    Heigth = float(input(\"Height: \"))\n",
    "\n",
    "    print(f\"---------- For a squared pyramid ----------\\nVolume:  {Volume(SideLength,Heigth)}\\nSurface: {Surface(SideLength,Heigth)}\\n\\nfor SideLength={SideLength}, Heigth={Heigth}\")\n",
    "except:\n",
    "    print(\"Sorry, only numbers are accepted!\")\n"
   ]
  },
  {
   "cell_type": "markdown",
   "metadata": {},
   "source": [
    "##### Task 2 (2 + 3 Points)"
   ]
  },
  {
   "cell_type": "code",
   "execution_count": null,
   "metadata": {},
   "outputs": [],
   "source": [
    "\"\"\" \n",
    "    a) for m, n ∈ N \\ {0} calculate integers q and r from division with remainder, that is m = n * q + r with r < n. \n",
    "       don't use '%' or 'divmod' !\n",
    "       \n",
    "    b) for m, n ∈ N \\ {0} test if  m // n * n + m % n = m.\n",
    "       what happens if m, n are floats? \n",
    "       what do you notice when you do '//' and '%' separetely (especially if n is a float)?  \n",
    "\"\"\"\n",
    "\n",
    "# ------ a ------\n",
    "def mod(m,n):\n",
    "    while True:\n",
    "      q = m//n\n",
    "      r = m - (q*n)\n",
    "      print(f\"{m} = {n} * {q} + {r} \\n\\nwith\\nq: {q}\\nr: {r}\\n\")\n",
    "      if r < 1:\n",
    "         break\n",
    "      m = q\n",
    "# ------ b ------\n",
    "def expr(m,n):\n",
    "   return m // n * n + m % n == m\n",
    "def expr_s(m,n):\n",
    "   op_d = m // n\n",
    "   op_m = m % n\n",
    "   return op_d * n + op_m == m\n",
    "# integer\n",
    "print(expr(m=1,n=1))\n",
    "# float m\n",
    "print(expr(m=1.,n=1))\n",
    "# float n\n",
    "print(expr(m=1,n=1.))\n",
    "# separetely\n",
    "print(expr_s(m=1,n=1))\n",
    "print(expr_s(m=1,n=1.))\n"
   ]
  },
  {
   "cell_type": "code",
   "execution_count": 21,
   "metadata": {},
   "outputs": [
    {
     "data": {
      "text/plain": [
       "True"
      ]
     },
     "execution_count": 21,
     "metadata": {},
     "output_type": "execute_result"
    }
   ],
   "source": [
    "m = 2.\n",
    "n = 3.\n",
    "d = m // n\n",
    "md = m % n\n",
    "d * n + md == m"
   ]
  },
  {
   "cell_type": "markdown",
   "metadata": {},
   "source": [
    "##### Task 3 (3 + 3 + 3 Points)"
   ]
  },
  {
   "cell_type": "code",
   "execution_count": null,
   "metadata": {},
   "outputs": [],
   "source": [
    "\"\"\" \n",
    "    a) calculate\n",
    "          log(exp(10))\n",
    "          cos2(2) + sin2(2)\n",
    "          sqrt(pow(3,2) + pow(4,2))\n",
    "\n",
    "    b) test if the distributive law holds.\n",
    "          define x = exp(10), y = sin(1.57), z = log(2.71)\n",
    "          calculate (i) x(y + z) and (ii) xy + xz\n",
    "          \n",
    "    c) test if the associative law holds.\n",
    "          define x = pow(10,-10), y = pow(10,10), z = y\n",
    "          calculate (i) x + (y + z) and (ii) (x + y) + z\n",
    "\"\"\"\n",
    "from math import exp, log, sin, cos, sqrt\n",
    "\n",
    "# ------ a ------\n",
    "\n",
    "print(log(exp(10)))\n",
    "print(pow(cos(2),2) + pow(sin(2),2))\n",
    "print(sqrt(pow(3,2) + pow(4,2)))\n",
    "\n",
    "# ------ b ------\n",
    "\n",
    "x = exp(10)\n",
    "y = sin(1.57)\n",
    "z = log(2.71)\n",
    "statement1 = x*(y+z)\n",
    "statement2 = x*y + x*z\n",
    "print(statement1,statement2)\n",
    "print(statement1 == statement2)\n",
    "\n",
    "# ------ c ------\n",
    "\n",
    "x = pow(10,-10)\n",
    "y = pow(10,10)\n",
    "z = y\n",
    "statement1 = x + (y + z)\n",
    "statement2 = (x + y) + z\n",
    "print(statement1,statement2)\n",
    "print(statement1 == statement2)"
   ]
  }
 ],
 "metadata": {
  "kernelspec": {
   "display_name": "base",
   "language": "python",
   "name": "python3"
  },
  "language_info": {
   "codemirror_mode": {
    "name": "ipython",
    "version": 3
   },
   "file_extension": ".py",
   "mimetype": "text/x-python",
   "name": "python",
   "nbconvert_exporter": "python",
   "pygments_lexer": "ipython3",
   "version": "3.10.12"
  }
 },
 "nbformat": 4,
 "nbformat_minor": 2
}
