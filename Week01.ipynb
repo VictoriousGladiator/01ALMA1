{
 "cells": [
  {
   "cell_type": "markdown",
   "metadata": {},
   "source": [
    "##### Task 1 (6 Points)"
   ]
  },
  {
   "cell_type": "code",
   "execution_count": 16,
   "metadata": {},
   "outputs": [
    {
     "name": "stdout",
     "output_type": "stream",
     "text": [
      "---------- For a squared pyramid ----------\n",
      "Volume:  333.33333333333326\n",
      "Surface: 323.60679774997897\n",
      "\n",
      "for SideLength=10.0, Heigth=10.0\n"
     ]
    }
   ],
   "source": [
    "\"\"\" \n",
    "    Input:  SideLength, Heigth\n",
    "    Output: Volume, Surface\n",
    "\n",
    "    To calculate the volume and surface of a pyramid: \n",
    "        - FloorArea     = SideLength * SideLength\n",
    "        - Volume        = 1/3 * FloorArea * Height\n",
    "        - HeightSide    = sqrt((Heigth * Heigth + SideLength * SideLength)\n",
    "        - MantleArea    = 2 * SideLength * HeightSide\n",
    "        - Surface       = MantleArea + FloorArea \n",
    "\"\"\"\n",
    "from math import sqrt\n",
    "def Volume(SideLength,Heigth):\n",
    "    FloorArea = SideLength**2\n",
    "    return (1/3) * FloorArea * Heigth\n",
    "\n",
    "def Surface(SideLength,Heigth):\n",
    "    FloorArea = SideLength**2\n",
    "    HeigthSide = sqrt(Heigth**2 + (SideLength/2)**2)\n",
    "    MantleArea = 2 * SideLength * HeigthSide\n",
    "    Surface = MantleArea + FloorArea\n",
    "    return Surface\n",
    "try:\n",
    "    SideLength = float(input(\"SideLength:\"))\n",
    "    Heigth = float(input(\"Height: \"))\n",
    "\n",
    "    print(f\"---------- For a squared pyramid ----------\\nVolume:  {Volume(SideLength,Heigth)}\\nSurface: {Surface(SideLength,Heigth)}\\n\\nfor SideLength={SideLength}, Heigth={Heigth}\")\n",
    "except:\n",
    "    print(\"Sorry, only numbers are accepted!\")\n"
   ]
  },
  {
   "cell_type": "markdown",
   "metadata": {},
   "source": [
    "##### Task 2 (2 + 3 Points)"
   ]
  },
  {
   "cell_type": "code",
   "execution_count": null,
   "metadata": {},
   "outputs": [],
   "source": []
  },
  {
   "cell_type": "markdown",
   "metadata": {},
   "source": [
    "##### Task 3 (3 + 3 + 3Points)"
   ]
  },
  {
   "cell_type": "code",
   "execution_count": null,
   "metadata": {},
   "outputs": [],
   "source": []
  }
 ],
 "metadata": {
  "kernelspec": {
   "display_name": "base",
   "language": "python",
   "name": "python3"
  },
  "language_info": {
   "codemirror_mode": {
    "name": "ipython",
    "version": 3
   },
   "file_extension": ".py",
   "mimetype": "text/x-python",
   "name": "python",
   "nbconvert_exporter": "python",
   "pygments_lexer": "ipython3",
   "version": "3.10.12"
  }
 },
 "nbformat": 4,
 "nbformat_minor": 2
}
