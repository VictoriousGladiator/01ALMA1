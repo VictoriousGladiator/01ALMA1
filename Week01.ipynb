{
 "cells": [
  {
   "cell_type": "markdown",
   "metadata": {},
   "source": [
    "##### Task 1 (6 Points)"
   ]
  },
  {
   "cell_type": "code",
   "execution_count": 16,
   "metadata": {},
   "outputs": [
    {
     "name": "stdout",
     "output_type": "stream",
     "text": [
      "---------- For a squared pyramid ----------\n",
      "Volume:  333.33333333333326\n",
      "Surface: 323.60679774997897\n",
      "\n",
      "for SideLength=10.0, Heigth=10.0\n"
     ]
    }
   ],
   "source": [
    "\"\"\" \n",
    "    Input:  SideLength, Heigth\n",
    "    Output: Volume, Surface\n",
    "\n",
    "    To calculate the volume and surface of a pyramid: \n",
    "        - FloorArea     = SideLength * SideLength\n",
    "        - Volume        = 1/3 * FloorArea * Height\n",
    "        - HeightSide    = sqrt((Heigth * Heigth + SideLength * SideLength)\n",
    "        - MantleArea    = 2 * SideLength * HeightSide\n",
    "        - Surface       = MantleArea + FloorArea \n",
    "\"\"\"\n",
    "from math import sqrt\n",
    "def Volume(SideLength,Heigth):\n",
    "    FloorArea = SideLength**2\n",
    "    return (1/3) * FloorArea * Heigth\n",
    "\n",
    "def Surface(SideLength,Heigth):\n",
    "    FloorArea = SideLength**2\n",
    "    HeigthSide = sqrt(Heigth**2 + (SideLength/2)**2)\n",
    "    MantleArea = 2 * SideLength * HeigthSide\n",
    "    return MantleArea + FloorArea\n",
    "try:\n",
    "    SideLength = float(input(\"SideLength:\"))\n",
    "    Heigth = float(input(\"Height: \"))\n",
    "\n",
    "    print(f\"---------- For a squared pyramid ----------\\nVolume:  {Volume(SideLength,Heigth)}\\nSurface: {Surface(SideLength,Heigth)}\\n\\nfor SideLength={SideLength}, Heigth={Heigth}\")\n",
    "except:\n",
    "    print(\"Sorry, only numbers are accepted!\")\n"
   ]
  },
  {
   "cell_type": "markdown",
   "metadata": {},
   "source": [
    "##### Task 2 (2 + 3 Points)"
   ]
  },
  {
   "cell_type": "code",
   "execution_count": 8,
   "metadata": {},
   "outputs": [],
   "source": [
    "\"\"\" \n",
    "    a) for m, n ∈ N \\ {0} calculate integers q and r from division with remainder, that is m = q * n + r with r < n. \n",
    "       don't use '%' or 'divmod' !\n",
    "       \n",
    "    b) for m, n ∈ N \\ {0} test if  m // n * n + m % n = m.\n",
    "       what happens if m, n are floats? \n",
    "       what do you notice when you do '//' and '%' separetely (especially if n is a float)?  \n",
    "\"\"\"\n",
    "\n",
    "# ------ a ------\n",
    "def mod(m,n):\n",
    "    while True:\n",
    "      q = m//n\n",
    "      r = m - (q*n)\n",
    "      print(f\"{m} = {n} * {q} + {r} \\n\\nwith\\nq: {q}\\nr: {r}\\n\")\n",
    "      if r < 1:\n",
    "         break\n",
    "      m = q"
   ]
  },
  {
   "cell_type": "code",
   "execution_count": 5,
   "metadata": {},
   "outputs": [],
   "source": [
    "RANGE = 10001"
   ]
  },
  {
   "cell_type": "code",
   "execution_count": 6,
   "metadata": {},
   "outputs": [],
   "source": [
    "# ------ b ------\n",
    "results_int = {}\n",
    "for ind,n in enumerate(range(1,RANGE)):\n",
    "    results_int[ind] = list()\n",
    "    for m in range(1,RANGE):\n",
    "      statement1 = m // n * n + m % n\n",
    "      statement2 = m\n",
    "      results_int[ind].append(statement1 == statement2)"
   ]
  },
  {
   "cell_type": "code",
   "execution_count": 7,
   "metadata": {},
   "outputs": [],
   "source": [
    "results_float_n = {}\n",
    "for ind,n in enumerate(range(1,RANGE)):\n",
    "    results_float_n[ind] = list()\n",
    "    for m in range(1,RANGE):\n",
    "      n = float(n)\n",
    "      statement1 = m // n * n + m % n\n",
    "      statement2 = m\n",
    "      results_float_n[ind].append(statement1 == statement2)"
   ]
  },
  {
   "cell_type": "code",
   "execution_count": 8,
   "metadata": {},
   "outputs": [],
   "source": [
    "results_float_m = {}\n",
    "for ind,n in enumerate(range(1,RANGE)):\n",
    "    results_float_m[ind] = list()\n",
    "    for m in range(1,RANGE):\n",
    "      m = float(m)\n",
    "      statement1 = m // n * n + m % n\n",
    "      statement2 = m\n",
    "      results_float_m[ind].append(statement1 == statement2)"
   ]
  },
  {
   "cell_type": "code",
   "execution_count": 9,
   "metadata": {},
   "outputs": [],
   "source": [
    "results_float= {}\n",
    "for ind,n in enumerate(range(1,RANGE)):\n",
    "    results_float[ind] = list()\n",
    "    for m in range(1,RANGE):\n",
    "      n,m = float(n),float(m)\n",
    "      statement1 = m // n * n + m % n\n",
    "      statement2 = m\n",
    "      results_float[ind].append(statement1 == statement2)"
   ]
  },
  {
   "cell_type": "code",
   "execution_count": 13,
   "metadata": {},
   "outputs": [],
   "source": [
    "results = [results_int,results_float,results_float_m,results_float_n]\n",
    "for analysis in results:\n",
    "    values = analysis.values()\n",
    "    for value in values:\n",
    "        false_statement = value.count(False)\n",
    "        if false_statement!=0:\n",
    "            print(false_statement)"
   ]
  },
  {
   "cell_type": "markdown",
   "metadata": {},
   "source": [
    "##### Task 3 (3 + 3 + 3 Points)"
   ]
  },
  {
   "cell_type": "code",
   "execution_count": 15,
   "metadata": {},
   "outputs": [
    {
     "name": "stdout",
     "output_type": "stream",
     "text": [
      "10.0\n",
      "1.0\n",
      "5.0\n",
      "43985.71381653491 43985.7138165349\n",
      "False\n",
      "20000000000.0 20000000000.0\n",
      "True\n"
     ]
    }
   ],
   "source": [
    "\"\"\" \n",
    "    a) calculate\n",
    "          log(exp(10))\n",
    "          cos2(2) + sin2(2)\n",
    "          sqrt(pow(3,2) + pow(4,2))\n",
    "\n",
    "    b) test if the distributive law holds.\n",
    "          define x = exp(10), y = sin(1.57), z = log(2.71)\n",
    "          calculate (i) x(y + z) and (ii) xy + xz\n",
    "          \n",
    "    c) test if the associative law holds.\n",
    "          define x = pow(10,-10), y = pow(10,10), z = y\n",
    "          calculate (i) x + (y + z) and (ii) (x + y) + z\n",
    "\"\"\"\n",
    "from math import exp, log, sin, cos, sqrt\n",
    "\n",
    "# ------ a ------\n",
    "\n",
    "print(log(exp(10)))\n",
    "print(pow(cos(2),2) + pow(sin(2),2))\n",
    "print(sqrt(pow(3,2) + pow(4,2)))\n",
    "\n",
    "# ------ b ------\n",
    "\n",
    "x = exp(10)\n",
    "y = sin(1.57)\n",
    "z = log(2.71)\n",
    "statement1 = x*(y+z)\n",
    "statement2 = x*y + x*z\n",
    "print(statement1,statement2)\n",
    "print(statement1 == statement2)\n",
    "\n",
    "# ------ c ------\n",
    "\n",
    "x = pow(10,-10)\n",
    "y = pow(10,10)\n",
    "z = y\n",
    "statement1 = x + (y + z)\n",
    "statement2 = (x + y) + z\n",
    "print(statement1,statement2)\n",
    "print(statement1 == statement2)"
   ]
  }
 ],
 "metadata": {
  "kernelspec": {
   "display_name": "base",
   "language": "python",
   "name": "python3"
  },
  "language_info": {
   "codemirror_mode": {
    "name": "ipython",
    "version": 3
   },
   "file_extension": ".py",
   "mimetype": "text/x-python",
   "name": "python",
   "nbconvert_exporter": "python",
   "pygments_lexer": "ipython3",
   "version": "3.10.12"
  }
 },
 "nbformat": 4,
 "nbformat_minor": 2
}
