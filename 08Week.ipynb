{
 "cells": [
  {
   "cell_type": "markdown",
   "metadata": {},
   "source": [
    "##### Task (20 Points)"
   ]
  },
  {
   "cell_type": "code",
   "execution_count": null,
   "metadata": {},
   "outputs": [],
   "source": [
    "\"\"\" \n",
    "    topic: search algorithms\n",
    "\n",
    "    a)\n",
    "    implement BFS (Breadth-first Search)\n",
    "\n",
    "    b)\n",
    "    implement DFS (Depth-first Search)\n",
    "\n",
    "    c)\n",
    "    implement a function that calculates all connected components\n",
    "\"\"\""
   ]
  },
  {
   "cell_type": "code",
   "execution_count": 65,
   "metadata": {},
   "outputs": [],
   "source": [
    "def BFS(Graph, startknoten):\n",
    "    R = [startknoten]\n",
    "    Q = [startknoten]\n",
    "    F = []\n",
    "    while len(Q) != 0:\n",
    "        nachbarslistevonKnotenausQ = Graph.get_node(Q[0]).adjacent_nodes()\n",
    "        fertig = True\n",
    "        for nachbar in nachbarslistevonKnotenausQ:\n",
    "            if nachbar.id() not in R:\n",
    "                R.append(nachbar.id())\n",
    "                Q.append(nachbar.id())\n",
    "                F.append((Q[0], Q[-1]))\n",
    "                fertig = False\n",
    "                break\n",
    "        if fertig == True:\n",
    "            Q.pop(0)\n",
    "        #print(len(Q))\n",
    "    return R, F"
   ]
  },
  {
   "cell_type": "code",
   "execution_count": 56,
   "metadata": {},
   "outputs": [],
   "source": [
    "def DFS(Graph, startknoten):\n",
    "    R = [startknoten]\n",
    "    Q = [startknoten]\n",
    "    F = []\n",
    "    while len(Q) != 0:\n",
    "        nachbarslistevonKnotenausQ = Graph.get_node(Q[-1]).adjacent_nodes()\n",
    "        fertig = True\n",
    "        for nachbar in nachbarslistevonKnotenausQ:\n",
    "            if nachbar.id() not in R:\n",
    "                R.append(nachbar.id())\n",
    "                Q.append(nachbar.id())\n",
    "                F.append((Q[-2], Q[-1]))\n",
    "                fertig = False\n",
    "                break\n",
    "        if fertig == True:\n",
    "            Q.pop()\n",
    "        #print(len(Q))\n",
    "\n",
    "    return R, F"
   ]
  },
  {
   "cell_type": "code",
   "execution_count": 54,
   "metadata": {},
   "outputs": [],
   "source": [
    "import numpy as np\n",
    "\n",
    "\n",
    "class Graph:\n",
    "    invalid_node = -1\n",
    "\n",
    "    def __init__(self, numorfile, directed=False):\n",
    "        self._directed = directed\n",
    "        if type(numorfile) == int:\n",
    "            self._nodes = [self.Node() for i in range(numorfile)]\n",
    "        elif type(numorfile) == str:\n",
    "            with open(numorfile, \"r\") as file:\n",
    "                numnodes = int(file.readline())\n",
    "                self._nodes = [self.Node() for i in range(numnodes)]\n",
    "                for line in file:\n",
    "                    tail = int(line.split()[0])\n",
    "                    head = int(line.split()[1])\n",
    "                    if tail != head:\n",
    "                        self.add_edge(tail, head)\n",
    "                    else:\n",
    "                        raise RuntimeError(\"Invalid file format: loops not allowed\")\n",
    "        else:\n",
    "            raise NotImplementedError(\"Type of Argument not allowed\")\n",
    "\n",
    "    def num_nodes(self):\n",
    "        return len(self._nodes)\n",
    "\n",
    "    def add_nodes(self, num_new_nodes):\n",
    "        self._nodes.extend([self.Node() for i in range(num_new_nodes)])\n",
    "\n",
    "    def add_edge(self, tail, head):\n",
    "        if tail >= self.num_nodes() or tail < 0 or head >= self.num_nodes() or head < 0:\n",
    "            raise ValueError(\"Edge cannot be added due to undefined endpoint\")\n",
    "        self._nodes[tail].add_neighbor(head)\n",
    "        if not self._directed:\n",
    "            self._nodes[head].add_neighbor(tail)\n",
    "\n",
    "    def get_node(self, nodeId):\n",
    "        if nodeId < 0 or nodeId >= self.num_nodes():\n",
    "            raise ValueError(\"Invalid nodeId\")\n",
    "        return self._nodes[nodeId]\n",
    "\n",
    "    def __str__(self):  # for printing\n",
    "        out = \"\"\n",
    "        if self._directed:\n",
    "            out += \"Digraph \"\n",
    "        else:\n",
    "            out += \"Undirected Graph \"\n",
    "        out += \"with {} vertices, numbered 0, ..., {}\\n\".format(\n",
    "            self.num_nodes(), self.num_nodes() - 1\n",
    "        )\n",
    "        for nodeId in range(self.num_nodes()):\n",
    "            if self._directed:\n",
    "                s = \"leaving\"\n",
    "            else:\n",
    "                s = \"incident to\"\n",
    "            out += \"The following edges are \" + s + \" vertex {}:\\n\".format(nodeId)\n",
    "            for neighbor in self._nodes[nodeId].adjacent_nodes():\n",
    "                out += \"{} - {}\\n\".format(nodeId, neighbor.id())\n",
    "        return out\n",
    "\n",
    "    def is_simple(self):\n",
    "        for nodeId in range(self.num_nodes()):\n",
    "            nachbarsliste = []\n",
    "            for neighbor in self._nodes[nodeId].adjacent_nodes():\n",
    "                nachbarsliste.append(neighbor.id())\n",
    "\n",
    "            unique_nachbarsliste = []\n",
    "            for nachbar in nachbarsliste:\n",
    "                if nachbar not in unique_nachbarsliste:\n",
    "                    unique_nachbarsliste.append(nachbar)\n",
    "                else:\n",
    "                    return False\n",
    "\n",
    "        return True\n",
    "    \n",
    "    def components(self):\n",
    "        components = []\n",
    "        visited_nodes = set()\n",
    "\n",
    "        for nodeId in range(self.num_nodes()):\n",
    "            if nodeId not in visited_nodes:\n",
    "                start_node = nodeId\n",
    "                nodes, _ = DFS(self, start_node)\n",
    "                components.append(nodes)\n",
    "                visited_nodes.update(nodes)\n",
    "\n",
    "        return components\n",
    "\n",
    "    def adjancency_matrix(self):\n",
    "        num_nodes = self.num_nodes()\n",
    "        matrix = [[0] * num_nodes for _ in range(num_nodes)]\n",
    "\n",
    "        for nodeId in range(num_nodes):\n",
    "            neighbors = self._nodes[nodeId].adjacent_nodes()\n",
    "            for neighbor in neighbors:\n",
    "                matrix[nodeId][neighbor.id()] = 1\n",
    "        return np.array(matrix)\n",
    "\n",
    "    class Node:\n",
    "        def __init__(self):\n",
    "            self._neighbors = []\n",
    "\n",
    "        def add_neighbor(self, nodeId):\n",
    "            self._neighbors.append(Graph.Neighbor(nodeId))\n",
    "\n",
    "        def adjacent_nodes(self):\n",
    "            return self._neighbors\n",
    "\n",
    "        def number_of_neighbors(self):\n",
    "            return len(self._neighbors)\n",
    "\n",
    "    class Neighbor:\n",
    "        def __init__(self, nodeId):\n",
    "            self._id = nodeId\n",
    "\n",
    "        def id(self):\n",
    "            return self._id\n",
    "\n",
    "file = \"./graph.txt\"\n",
    "g = Graph(file, directed=True)"
   ]
  },
  {
   "cell_type": "code",
   "execution_count": 58,
   "metadata": {},
   "outputs": [
    {
     "name": "stdout",
     "output_type": "stream",
     "text": [
      "Digraph with 6 vertices, numbered 0, ..., 5\n",
      "The following edges are leaving vertex 0:\n",
      "0 - 1\n",
      "The following edges are leaving vertex 1:\n",
      "1 - 5\n",
      "The following edges are leaving vertex 2:\n",
      "The following edges are leaving vertex 3:\n",
      "3 - 4\n",
      "The following edges are leaving vertex 4:\n",
      "4 - 0\n",
      "The following edges are leaving vertex 5:\n",
      "5 - 0\n",
      "\n"
     ]
    }
   ],
   "source": [
    "print(g)"
   ]
  },
  {
   "cell_type": "code",
   "execution_count": 63,
   "metadata": {},
   "outputs": [
    {
     "data": {
      "text/plain": [
       "[[0, 1, 5], [2], [3, 4, 0, 1, 5]]"
      ]
     },
     "execution_count": 63,
     "metadata": {},
     "output_type": "execute_result"
    }
   ],
   "source": [
    "g.components()"
   ]
  },
  {
   "cell_type": "code",
   "execution_count": 66,
   "metadata": {},
   "outputs": [
    {
     "name": "stdout",
     "output_type": "stream",
     "text": [
      "([0, 1, 5], [(0, 1), (1, 5)])\n",
      "([0, 1, 5], [(0, 1), (1, 5)])\n"
     ]
    }
   ],
   "source": [
    "print(DFS(g, 0))\n",
    "print(BFS(g, 0))"
   ]
  }
 ],
 "metadata": {
  "kernelspec": {
   "display_name": "Python 3",
   "language": "python",
   "name": "python3"
  },
  "language_info": {
   "codemirror_mode": {
    "name": "ipython",
    "version": 3
   },
   "file_extension": ".py",
   "mimetype": "text/x-python",
   "name": "python",
   "nbconvert_exporter": "python",
   "pygments_lexer": "ipython3",
   "version": "3.11.5"
  }
 },
 "nbformat": 4,
 "nbformat_minor": 2
}
