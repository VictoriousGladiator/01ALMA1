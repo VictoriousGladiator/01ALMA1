{
 "cells": [
  {
   "cell_type": "markdown",
   "metadata": {},
   "source": [
    "##### Task (20 Points)"
   ]
  },
  {
   "cell_type": "code",
   "execution_count": null,
   "metadata": {},
   "outputs": [],
   "source": [
    "\"\"\" \n",
    "    topic: search algorithms\n",
    "\n",
    "    a)\n",
    "    implement BFS (Breadth-first Search)\n",
    "\n",
    "    b)\n",
    "    implement DFS (Depth-first Search)\n",
    "\n",
    "    c)\n",
    "    implement a function that calculates all connected components\n",
    "\"\"\""
   ]
  }
 ],
 "metadata": {
  "language_info": {
   "name": "python"
  }
 },
 "nbformat": 4,
 "nbformat_minor": 2
}
