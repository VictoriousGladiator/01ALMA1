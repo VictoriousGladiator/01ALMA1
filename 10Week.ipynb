{
 "cells": [
  {
   "cell_type": "markdown",
   "metadata": {},
   "source": [
    "#### Task (20 Points)"
   ]
  },
  {
   "cell_type": "code",
   "execution_count": null,
   "metadata": {},
   "outputs": [],
   "source": [
    "\"\"\" \n",
    "    topic: Moore-Bellman-Ford (MBF) Algorithm\n",
    "\n",
    "    a)\n",
    "    implement MBF()\n",
    "        - digraph \n",
    "        - conservative edges\n",
    "        - given a start node S\n",
    "        - calculate the shortest path to all accesible nodes\n",
    "        - test you function with a small example\n",
    "\n",
    "    b)\n",
    "    extend a) for non conservative\n",
    "        - return a circle with negative weights\n",
    "\n",
    "    c)\n",
    "    extend the graph class, such that it allows weights\n",
    "        - G = (V,E), c: E --> R_+\n",
    "        - given the file waren.txt\n",
    "            - the weight for an edge (A,B)∈E represents the trading rate from A to B\n",
    "            - for one unit of commodity A, you therefore get c(a, b) units of commodity B\n",
    "            - implement a algorithm that checks whether there is a cycle C of exchange transactions \n",
    "              in which you have more of a good after one cycle than before\n",
    "                - r_C = \\prod_(A,B)∈C c((A,B)) > 1\n",
    "            - if there exists at least one Cycle C, then return the goods responsible for this\n",
    "\"\"\""
   ]
  },
  {
   "cell_type": "code",
   "execution_count": 1,
   "metadata": {},
   "outputs": [],
   "source": [
    "import numpy as np\n",
    "\n",
    "class Graph:\n",
    "    invalid_node = -1\n",
    "    def __init__(self, numorfile, weights : list = None, directed=False):\n",
    "        self._directed = directed\n",
    "        if type(numorfile) == int:\n",
    "            self._nodes = [self.Node(weights[i]) for i in range(numorfile)]\n",
    "        elif type(numorfile) == str:\n",
    "            with open(numorfile, \"r\") as file:\n",
    "                numnodes = int(file.readline())\n",
    "                weight = [float(line.strip().split()[-1]) for line in file.readlines()]\n",
    "                self._nodes = [self.Node(weight[i]) for i in range(numnodes)]\n",
    "                for line in file:\n",
    "                    tail = int(line.split()[0])\n",
    "                    head = int(line.split()[1])\n",
    "                    if tail != head:\n",
    "                        self.add_edge(tail, head)\n",
    "                    else:\n",
    "                        raise RuntimeError(\"Invalid file format: loops not allowed\")\n",
    "        else:\n",
    "            raise NotImplementedError(\"Type of Argument not allowed\")\n",
    "    def num_nodes(self):\n",
    "        return len(self._nodes)\n",
    "\n",
    "    def add_nodes(self, num_new_nodes):\n",
    "        self._nodes.extend([self.Node() for i in range(num_new_nodes)])\n",
    "\n",
    "    def add_edge(self, tail, head):\n",
    "        if tail >= self.num_nodes() or tail < 0 or head >= self.num_nodes() or head < 0:\n",
    "            raise ValueError(\"Edge cannot be added due to undefined endpoint\")\n",
    "        self._nodes[tail].add_neighbor(head)\n",
    "        if not self._directed:\n",
    "            self._nodes[head].add_neighbor(tail)\n",
    "\n",
    "    def get_node(self, nodeId):\n",
    "        if nodeId < 0 or nodeId >= self.num_nodes():\n",
    "            raise ValueError(\"Invalid nodeId\")\n",
    "        return self._nodes[nodeId]\n",
    "\n",
    "    def __str__(self):\n",
    "        out = \"\"\n",
    "        if self._directed:\n",
    "            out += \"Digraph \"\n",
    "        else:\n",
    "            out += \"Undirected Graph \"\n",
    "        out += \"with {} vertices, numbered 0, ..., {}\\n\".format(\n",
    "            self.num_nodes(), self.num_nodes() - 1\n",
    "        )\n",
    "        for nodeId in range(self.num_nodes()):\n",
    "            if self._directed:\n",
    "                s = \"leaving\"\n",
    "            else:\n",
    "                s = \"incident to\"\n",
    "            out += \"The following edges are \" + s + \" vertex {}:\\n\".format(nodeId)\n",
    "            for neighbor in self._nodes[nodeId].adjacent_nodes():\n",
    "                out += \"{} - {}\\n\".format(nodeId, neighbor.id())\n",
    "        return out\n",
    "    \n",
    "    def MooreBellmanFord(self):\n",
    "        # conservative\n",
    "        # ...\n",
    "\n",
    "        # non conservative\n",
    "        # ... \n",
    "        pass\n",
    "\n",
    "    def is_trading_valid(self):\n",
    "        # check for validity\n",
    "        # return goods that are responsible for this\n",
    "        pass\n",
    "\n",
    "    class Node:\n",
    "        def __init__(self,weight=None):\n",
    "            self._neighbors = []\n",
    "            self.weight = weight\n",
    "\n",
    "        def add_neighbor(self, nodeId):\n",
    "            self._neighbors.append(Graph.Neighbor(nodeId))\n",
    "\n",
    "        def adjacent_nodes(self):\n",
    "            return self._neighbors\n",
    "\n",
    "        def number_of_neighbors(self):\n",
    "            return len(self._neighbors)\n",
    "        \n",
    "        def weight(self):\n",
    "            return self.weight\n",
    "\n",
    "    class Neighbor:\n",
    "        def __init__(self, nodeId):\n",
    "            self._id = nodeId\n",
    "\n",
    "        def id(self):\n",
    "            return self._id"
   ]
  },
  {
   "cell_type": "code",
   "execution_count": null,
   "metadata": {},
   "outputs": [],
   "source": [
    "# example for MBF"
   ]
  },
  {
   "cell_type": "code",
   "execution_count": 2,
   "metadata": {},
   "outputs": [],
   "source": [
    "g = Graph(\"waren.txt\",directed=True)"
   ]
  },
  {
   "cell_type": "code",
   "execution_count": 3,
   "metadata": {},
   "outputs": [
    {
     "data": {
      "text/plain": [
       "0.06640123778891835"
      ]
     },
     "execution_count": 3,
     "metadata": {},
     "output_type": "execute_result"
    }
   ],
   "source": [
    "g.get_node(0).weight"
   ]
  }
 ],
 "metadata": {
  "kernelspec": {
   "display_name": "science",
   "language": "python",
   "name": "python3"
  },
  "language_info": {
   "codemirror_mode": {
    "name": "ipython",
    "version": 3
   },
   "file_extension": ".py",
   "mimetype": "text/x-python",
   "name": "python",
   "nbconvert_exporter": "python",
   "pygments_lexer": "ipython3",
   "version": "3.11.5"
  }
 },
 "nbformat": 4,
 "nbformat_minor": 2
}
