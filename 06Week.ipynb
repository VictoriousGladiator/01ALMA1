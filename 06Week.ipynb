{
 "cells": [
  {
   "cell_type": "markdown",
   "metadata": {},
   "source": [
    "##### Task 1 (7 Points)"
   ]
  },
  {
   "cell_type": "code",
   "execution_count": null,
   "metadata": {},
   "outputs": [],
   "source": [
    "\"\"\" \n",
    "    topic: algorithm by archimedes\n",
    "    \n",
    "    given that you can approximate pi with\n",
    "        s_2n = sqrt( 2 - sqrt( 4 - s_n^2 ) ) (1)\n",
    "\n",
    "    a)\n",
    "    calculate (1) with n = 4, ..., 2^30\n",
    "\n",
    "    b)\n",
    "    instead of (1) use\n",
    "        s_2n = sqrt( s_n^2 * (1 / 2 + sqrt( 4 + s_n^2)))\n",
    "\n",
    "    what do you notice, explain your findings!\n",
    "\n",
    "\n",
    "\"\"\""
   ]
  },
  {
   "cell_type": "markdown",
   "metadata": {},
   "source": [
    "##### Task 2 (13 Points)"
   ]
  },
  {
   "cell_type": "code",
   "execution_count": 102,
   "metadata": {},
   "outputs": [],
   "source": [
    "\"\"\"\n",
    "    topic: Grid Construction\n",
    "\n",
    "    Construct a 2 dimensional lattice.\n",
    "    a) \n",
    "    a class Point\n",
    "        - that saves an n dimentional point\n",
    "        - where you can access the elements of the n dimensional point\n",
    "        - that can add two points\n",
    "        - scalar multiplication\n",
    "        \n",
    "    b) \n",
    "    a class Cell\n",
    "        - given a Point and the the length of the cell\n",
    "        - calculate the three remaining points\n",
    "        - and return them in a list\n",
    "    \n",
    "    c) \n",
    "    a class Grid2D\n",
    "        - given two points of a cell (down left & up right) and the length\n",
    "            - choose h such that (ur[0] - dl[0])/h and (ur[1] - dl[1])/h\n",
    "        - construct a whole grid\n",
    "        - write plot_mesh, that plots the grid with matplotlib\n",
    "\"\"\"\n",
    "import numpy as np\n",
    "class Point:\n",
    "    def __init__(self,Vector:list) -> None:\n",
    "        self.Vector = np.array(Vector)\n",
    "\n",
    "    def __add__(self,AddPoint):\n",
    "        return Point(self.Vector + AddPoint.Vector)\n",
    "    \n",
    "    def __getitem__(self,Index:int):\n",
    "        return self.Vector[Index]\n",
    "\n",
    "    def __mul__(self,Scalar:int | float):\n",
    "        return Point(self.Vector * Scalar)\n",
    "    \n",
    "    def __repr__(self) -> str:\n",
    "        return f\"{self.Vector}\"\n",
    "    \n",
    "class Cell:\n",
    "    def __init__(self,MyPoint:Point,Length:int | float) -> None:\n",
    "        # l - left r - right u - up d - down\n",
    "        self.Length = Length\n",
    "        self.x = MyPoint[0]\n",
    "        self.y = MyPoint[1]\n",
    "        self.PointLD = MyPoint\n",
    "        self.PointRD = Point([self.x,               self.y + self.Length])\n",
    "        self.PointRU = Point([self.x + self.Length, self.y + self.Length])\n",
    "        self.PointLU = Point([self.x + self.Length, self.y])\n",
    "        self.Points  = list((self.PointLD,self.PointLU,self.PointRU,self.PointRD))\n",
    "\n",
    "    def nodes(self):\n",
    "        return self.Points\n",
    "\n",
    "class Grid2D:\n",
    "    def __init__(self,PointA:Point,PointB:Point,Length:int | float) -> None:\n",
    "        pass"
   ]
  }
 ],
 "metadata": {
  "kernelspec": {
   "display_name": "base",
   "language": "python",
   "name": "python3"
  },
  "language_info": {
   "codemirror_mode": {
    "name": "ipython",
    "version": 3
   },
   "file_extension": ".py",
   "mimetype": "text/x-python",
   "name": "python",
   "nbconvert_exporter": "python",
   "pygments_lexer": "ipython3",
   "version": "3.11.5"
  }
 },
 "nbformat": 4,
 "nbformat_minor": 2
}
