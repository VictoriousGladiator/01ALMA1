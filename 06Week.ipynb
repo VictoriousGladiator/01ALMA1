{
 "cells": [
  {
   "cell_type": "markdown",
   "metadata": {},
   "source": [
    "##### Task 1 (7 Points)"
   ]
  },
  {
   "cell_type": "code",
   "execution_count": null,
   "metadata": {},
   "outputs": [],
   "source": [
    "\"\"\" \n",
    "    topic: algorithm by archimedes\n",
    "    \n",
    "    given that you can approximate pi with\n",
    "        s_2n = sqrt( 2 - sqrt( 4 - s_n^2 ) ) (1)\n",
    "\n",
    "    a)\n",
    "    calculate (1) with n = 4, ..., 2^30\n",
    "\n",
    "    b)\n",
    "    instead of (1) use\n",
    "        s_2n = sqrt( s_n^2 * (1 / 2 + sqrt( 4 + s_n^2)))\n",
    "\n",
    "    what do you notice, explain your findings!\n",
    "\n",
    "\n",
    "\"\"\""
   ]
  },
  {
   "cell_type": "markdown",
   "metadata": {},
   "source": [
    "##### Task 2 (13 Points)"
   ]
  },
  {
   "cell_type": "code",
   "execution_count": null,
   "metadata": {},
   "outputs": [],
   "source": [
    "\"\"\"\n",
    "    topic: Grid Construction\n",
    "\n",
    "    Construct a 2 dimensional lattice.\n",
    "    a) \n",
    "    a class Point\n",
    "        - that saves an n dimentional point\n",
    "        - where you can access the elements of the n dimensional point\n",
    "        - that can add two points\n",
    "        - scalar multiplication\n",
    "        \n",
    "    b) \n",
    "    a class Cell\n",
    "        - given a Point and the the length of the cell\n",
    "        - calculate the three remaining points\n",
    "        - and return them in a list\n",
    "    \n",
    "    c) \n",
    "    a class Grid2D\n",
    "        - given two points of a cell (down left & up right) and the length\n",
    "            - choose h such that (ur[0] - dl[0])/h and (ur[1] - dl[1])/h\n",
    "        - construct a whole grid\n",
    "        - write plot_mesh, that plots the grid with matplotlib\n",
    "\"\"\""
   ]
  }
 ],
 "metadata": {
  "kernelspec": {
   "display_name": "base",
   "language": "python",
   "name": "python3"
  },
  "language_info": {
   "name": "python",
   "version": "3.10.12"
  }
 },
 "nbformat": 4,
 "nbformat_minor": 2
}
