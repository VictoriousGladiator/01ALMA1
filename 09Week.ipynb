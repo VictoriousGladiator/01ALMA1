{
 "cells": [
  {
   "cell_type": "markdown",
   "metadata": {},
   "source": [
    "##### Task (20 Points)"
   ]
  },
  {
   "cell_type": "code",
   "execution_count": null,
   "metadata": {},
   "outputs": [],
   "source": [
    "\"\"\" \n",
    "    topic: dijkstra\n",
    "\n",
    "    a) \n",
    "    change the Graph class such that you accept coordinates\n",
    "\n",
    "    b)\n",
    "    implement plot_graph()\n",
    "\n",
    "    c) \n",
    "    implement weights()\n",
    "\n",
    "    d)\n",
    "    implement dijkstra()\n",
    "\n",
    "    e)\n",
    "    find the shortest path from 103 to 1758\n",
    "\"\"\""
   ]
  }
 ],
 "metadata": {
  "language_info": {
   "name": "python"
  }
 },
 "nbformat": 4,
 "nbformat_minor": 2
}
