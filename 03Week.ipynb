{
 "cells": [
  {
   "cell_type": "markdown",
   "metadata": {},
   "source": [
    "##### [Task 1](https://en.wikipedia.org/wiki/Differential_calculus) (10 Points)"
   ]
  },
  {
   "cell_type": "code",
   "execution_count": null,
   "metadata": {},
   "outputs": [],
   "source": [
    "\"\"\" \n",
    "    topic: differential calculus\n",
    "    \n",
    "    a)\n",
    "    approximates the first derivative of a f : R → R for a x_0\n",
    "    use\n",
    "        (1)     f( x_0 ) ≈ f_h( x_0 ) := ( f( x_0 + h ) - f( x_0 ) ) / h\n",
    "\n",
    "    apply this to \n",
    "        f : x → cos( x ), \n",
    "        x_0 = 1 and\n",
    "        step size = h_i = 2 ^ ( -i ), \n",
    "        i ∈ { 0, 1, ···, 15 }\n",
    "\n",
    "    and calculate the error\n",
    "        (E)     | f( x_0 ) - f_h( x_0 ) |\n",
    "\n",
    "    b) \n",
    "    instead of (1) \n",
    "    use\n",
    "        (2)     f( x_0 ) ≈ f_h( x_0 ) := ( f( x_0 + h ) - f( x_0 - h ) ) / 2h\n",
    "    \n",
    "    and repeat the steps of a)\n",
    "\n",
    "    c)\n",
    "    plot together ( E_a ) & ( E_b ) regarding h_i with matplotlib\n",
    "        - pyplot.loglog\n",
    "        - legend\n",
    "        - axes \n",
    "        - titel\n",
    "\n",
    "    what changes if I halve h_i \n",
    "\n",
    "    d) \n",
    "    what changes for\n",
    "        step size = h_i = 2 ^ ( -i ), \n",
    "        i ∈ { 0, 1, ···, 30 }\n",
    "    \n",
    "\n",
    "\"\"\""
   ]
  },
  {
   "cell_type": "markdown",
   "metadata": {},
   "source": [
    "##### [Task 2](https://en.wikipedia.org/wiki/Fibonacci_sequence) (10 Points)"
   ]
  },
  {
   "cell_type": "code",
   "execution_count": null,
   "metadata": {},
   "outputs": [],
   "source": [
    "\"\"\" \n",
    "    topic: fibonacci sequence\n",
    "\n",
    "        F_n = F_( n - 1 ) + F_( n - 2) for n ≥ 2\n",
    "        F_0 = 1, F_1 = 1\n",
    "\n",
    "    a) \n",
    "    implement the fibonacci sequence recursively\n",
    "\n",
    "    calcultate F_30\n",
    "\n",
    "    b) \n",
    "    implement the fibonacci sequence iteratively\n",
    "\n",
    "    calcultate F_30\n",
    "\n",
    "    what changes ? \n",
    "\n",
    "    c) \n",
    "    measure the running time for a) and b)\n",
    "\n",
    "    for better transparency return the first 20 results for both\n",
    "\n",
    "    plot with matplotlib\n",
    "        - legend\n",
    "        - axes \n",
    "        - titel\n",
    "\n",
    "    for a)\n",
    "        - pyplot.semilogy\n",
    "        - 1 ≤ n ≤ 35\n",
    "\n",
    "    for b)\n",
    "        - pyplot.loglog\n",
    "        - 1 ≤ n ≤ 1000\n",
    "\n",
    "\n",
    "\n",
    "\"\"\""
   ]
  }
 ],
 "metadata": {
  "language_info": {
   "name": "python"
  }
 },
 "nbformat": 4,
 "nbformat_minor": 2
}
