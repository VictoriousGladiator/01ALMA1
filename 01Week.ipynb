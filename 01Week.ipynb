{
 "cells": [
  {
   "cell_type": "markdown",
   "metadata": {},
   "source": [
    "##### Task 1 (6 Points)"
   ]
  },
  {
   "cell_type": "code",
   "execution_count": null,
   "metadata": {},
   "outputs": [],
   "source": [
    "\"\"\" \n",
    "    Input:  SideLength, Heigth\n",
    "    Output: Volume, Surface\n",
    "\n",
    "    To calculate the volume and surface of a pyramid: \n",
    "        - FloorArea     = SideLength * SideLength\n",
    "        - Volume        = 1/3 * FloorArea * Height\n",
    "        - HeightSide    = sqrt((Heigth * Heigth + SideLength * SideLength)\n",
    "        - MantleArea    = 2 * SideLength * HeightSide\n",
    "        - Surface       = MantleArea + FloorArea \n",
    "\"\"\"\n",
    "from math import sqrt\n",
    "def Volume(SideLength,Heigth):\n",
    "    FloorArea = SideLength**2\n",
    "    return (1/3) * FloorArea * Heigth\n",
    "\n",
    "def Surface(SideLength,Heigth):\n",
    "    FloorArea = SideLength**2\n",
    "    HeigthSide = sqrt(Heigth**2 + (SideLength/2)**2)\n",
    "    MantleArea = 2 * SideLength * HeigthSide\n",
    "    return MantleArea + FloorArea\n",
    "try:\n",
    "    SideLength = float(input(\"SideLength:\"))\n",
    "    Heigth = float(input(\"Height: \"))\n",
    "\n",
    "    print(f\"---------- For a squared pyramid ----------\\nVolume:  {Volume(SideLength,Heigth)}\\nSurface: {Surface(SideLength,Heigth)}\\n\\nfor SideLength={SideLength}, Heigth={Heigth}\")\n",
    "except:\n",
    "    print(\"Sorry, only numbers are accepted!\")\n"
   ]
  },
  {
   "cell_type": "markdown",
   "metadata": {},
   "source": [
    "##### Task 2 (2 + 3 Points)"
   ]
  },
  {
   "cell_type": "code",
   "execution_count": null,
   "metadata": {},
   "outputs": [],
   "source": [
    "\"\"\" \n",
    "    a) for m, n ∈ N \\ {0} calculate integers q and r from division with remainder, that is m = n * q + r with r < n. \n",
    "       don't use '%' or 'divmod' !\n",
    "       \n",
    "    b) for m, n ∈ N \\ {0} test if  m // n * n + m % n = m.\n",
    "       what happens if m, n are floats? \n",
    "       what do you notice when you do '//' and '%' separetely (especially if n is a float)?  \n",
    "\"\"\"\n",
    "\n",
    "# ------ a ------\n",
    "def mod(m,n):\n",
    "    while True:\n",
    "      q = m//n\n",
    "      r = m - (q*n)\n",
    "      print(f\"{m} = {n} * {q} + {r} \\n\\nwith\\nq: {q}\\nr: {r}\\n\")\n",
    "      if r < 1:\n",
    "         break\n",
    "      m = q\n",
    "# ------ b ------\n",
    "def expr(m,n):\n",
    "   return m // n * n + m % n == m\n",
    "def expr_s(m,n):\n",
    "   op_d = m // n\n",
    "   op_m = m % n\n",
    "   return op_d * n + op_m == m\n",
    "# integer\n",
    "print(expr(m=1,n=1))\n",
    "# float m\n",
    "print(expr(m=1.,n=1))\n",
    "# float n\n",
    "print(expr(m=1,n=1.))\n",
    "# separetely\n",
    "print(expr_s(m=1,n=1))\n",
    "print(expr_s(m=1,n=1.))\n"
   ]
  },
  {
   "cell_type": "markdown",
   "metadata": {},
   "source": [
    "##### Task 3 (3 + 3 + 3 Points)"
   ]
  },
  {
   "cell_type": "code",
   "execution_count": null,
   "metadata": {},
   "outputs": [],
   "source": [
    "\"\"\" \n",
    "    a) calculate\n",
    "          log(exp(10))\n",
    "          cos2(2) + sin2(2)\n",
    "          sqrt(pow(3,2) + pow(4,2))\n",
    "\n",
    "    b) test if the distributive law holds.\n",
    "          define x = exp(10), y = sin(1.57), z = log(2.71)\n",
    "          calculate (i) x(y + z) and (ii) xy + xz\n",
    "          \n",
    "    c) test if the associative law holds.\n",
    "          define x = pow(10,-10), y = pow(10,10), z = y\n",
    "          calculate (i) x + (y + z) and (ii) (x + y) + z\n",
    "\"\"\"\n",
    "from math import exp, log, sin, cos, sqrt\n",
    "\n",
    "# ------ a ------\n",
    "\n",
    "print(log(exp(10)))\n",
    "print(pow(cos(2),2) + pow(sin(2),2))\n",
    "print(sqrt(pow(3,2) + pow(4,2)))\n",
    "\n",
    "# ------ b ------\n",
    "\n",
    "x = exp(10)\n",
    "y = sin(1.57)\n",
    "z = log(2.71)\n",
    "statement1 = x*(y+z)\n",
    "statement2 = x*y + x*z\n",
    "print(statement1,statement2)\n",
    "print(statement1 == statement2)\n",
    "\n",
    "# ------ c ------\n",
    "\n",
    "x = pow(10,-10)\n",
    "y = pow(10,10)\n",
    "z = -y\n",
    "statement1 = x + (y + z)\n",
    "statement2 = (x + y) + z\n",
    "print(statement1,statement2)\n",
    "print(statement1 == statement2)"
   ]
  },
  {
   "cell_type": "markdown",
   "metadata": {},
   "source": [
    "##### Tool for the Traveling Salesman Problem (TSP)"
   ]
  },
  {
   "cell_type": "code",
   "execution_count": null,
   "metadata": {},
   "outputs": [],
   "source": [
    "cities = {\n",
    "    \"B\": 0,\n",
    "    \"A\": 1,\n",
    "    \"F\": 2,\n",
    "    \"M\": 3,\n",
    "    \"D\": 4\n",
    "}\n",
    "\n",
    "graph = {\n",
    "    \"B\": {\"B\": 0, \"A\": 185, \"F\": 119, \"M\": 152, \"D\": 133},\n",
    "    \"A\": {\"B\": 185, \"A\": 0, \"F\": 121, \"M\": 150, \"D\": 200},\n",
    "    \"F\": {\"B\": 119, \"A\": 121, \"F\": 0, \"M\": 174, \"D\": 120},\n",
    "    \"M\": {\"B\": 152, \"A\": 150, \"F\": 174, \"M\": 0, \"D\": 199},\n",
    "    \"D\": {\"B\": 133, \"A\": 200, \"F\": 120, \"M\": 199, \"D\": 0}\n",
    "}"
   ]
  },
  {
   "cell_type": "markdown",
   "metadata": {},
   "source": [
    "##### Naive Approach"
   ]
  },
  {
   "cell_type": "code",
   "execution_count": 36,
   "metadata": {},
   "outputs": [],
   "source": [
    "from itertools import permutations\n",
    "def travellingSalesmanProblem(graph, start_city):\n",
    "    cities_list = list(graph.keys())\n",
    "    cities_list.remove(start_city)\n",
    "    \n",
    "    unique_paths = set()\n",
    "\n",
    "    for perm in permutations(cities_list):\n",
    "        current_path = [start_city] + list(perm) + [start_city]\n",
    "        current_pathweight = 0\n",
    "\n",
    "        for i in range(len(cities_list)):\n",
    "            current_pathweight += graph[current_path[i]][current_path[i + 1]]\n",
    "\n",
    "        if (current_path[-1], tuple(current_path[:-1])) not in unique_paths:\n",
    "            unique_paths.add((current_path[0], tuple(current_path[1:])))\n",
    "    sorted_paths = sorted(list(unique_paths))\n",
    "    for path_start, path in sorted_paths:\n",
    "        path_length = 0\n",
    "        for i in range(len(path)):\n",
    "            path_length += graph[path[i-1]][path[i]]\n",
    "        print(\"Path:\", path_start + \"\".join(path), \"Length:\", path_length)"
   ]
  },
  {
   "cell_type": "markdown",
   "metadata": {},
   "source": [
    "##### Nearest Neighbor TSP"
   ]
  },
  {
   "cell_type": "code",
   "execution_count": 58,
   "metadata": {},
   "outputs": [],
   "source": [
    "def nearest_neighbor_tsp(graph, start_city):\n",
    "    cities = list(graph.keys())\n",
    "    num_cities = len(cities)\n",
    "    unvisited_cities = set(cities)\n",
    "    tour = [start_city]\n",
    "    unvisited_cities.remove(start_city)\n",
    "    total_distance = 0\n",
    "\n",
    "    while unvisited_cities:\n",
    "        current_city = tour[-1]\n",
    "        nearest_city = min(unvisited_cities, key=lambda city: graph[current_city][city])\n",
    "        tour.append(nearest_city)\n",
    "        total_distance += graph[current_city][nearest_city]\n",
    "        unvisited_cities.remove(nearest_city)\n",
    "\n",
    "    tour.append(start_city)\n",
    "    total_distance += graph[tour[-2]][start_city]\n",
    "\n",
    "    return tour, total_distance\n"
   ]
  },
  {
   "cell_type": "markdown",
   "metadata": {},
   "source": [
    "##### Usage"
   ]
  },
  {
   "cell_type": "code",
   "execution_count": null,
   "metadata": {},
   "outputs": [],
   "source": [
    "start_city = \"START\"\n",
    "travellingSalesmanProblem(graph, start_city)"
   ]
  },
  {
   "cell_type": "code",
   "execution_count": null,
   "metadata": {},
   "outputs": [],
   "source": [
    "start_city = \"START\"\n",
    "\n",
    "tour, total_distance = nearest_neighbor_tsp(graph, start_city)\n",
    "print(\"Tour:\", \"\".join(tour))\n",
    "print(\"Total Distance:\", total_distance)"
   ]
  },
  {
   "cell_type": "markdown",
   "metadata": {},
   "source": [
    "##### Postprocessing"
   ]
  },
  {
   "cell_type": "code",
   "execution_count": 40,
   "metadata": {},
   "outputs": [],
   "source": [
    "def del_duplicates(text):\n",
    "    lines = text.split('\\n')\n",
    "    lengths_set = set()\n",
    "    unique_lines = []\n",
    "\n",
    "    for line in lines:\n",
    "        if \"Length: \" in line:\n",
    "            length = line.split(\"Length: \")[1]\n",
    "            if length not in lengths_set:\n",
    "                lengths_set.add(length)\n",
    "                unique_lines.append(line)\n",
    "        else:\n",
    "            unique_lines.append(line)\n",
    "\n",
    "    for line in unique_lines:\n",
    "        print(line)"
   ]
  },
  {
   "cell_type": "markdown",
   "metadata": {},
   "source": [
    "##### Final Result"
   ]
  },
  {
   "cell_type": "code",
   "execution_count": 53,
   "metadata": {},
   "outputs": [
    {
     "name": "stdout",
     "output_type": "stream",
     "text": [
      " \n",
      "Path: BADFMB Length: 831\n",
      "Path: BADMFB Length: 877\n",
      "Path: BAFDMB Length: 777\n",
      "Path: BAFMDB Length: 812\n",
      "Path: BAMDFB Length: 773\n",
      "Path: BAMFDB Length: 762\n",
      "Path: BDAFMB Length: 780\n",
      "Path: BDAMFB Length: 776\n",
      "Path: BDFAMB Length: 676\n",
      "Path: BDMAFB Length: 722\n",
      "Path: BFADMB Length: 791\n",
      "Path: BFDAMB Length: 741\n",
      "\n"
     ]
    }
   ],
   "source": [
    "all_paths = \"\"\" \n",
    "Path: BADFMB Length: 831\n",
    "Path: BADMFB Length: 877\n",
    "Path: BAFDMB Length: 777\n",
    "Path: BAFMDB Length: 812\n",
    "Path: BAMDFB Length: 773\n",
    "Path: BAMFDB Length: 762\n",
    "Path: BDAFMB Length: 780\n",
    "Path: BDAMFB Length: 776\n",
    "Path: BDFAMB Length: 676\n",
    "Path: BDMAFB Length: 722\n",
    "Path: BFADMB Length: 791\n",
    "Path: BFDAMB Length: 741\n",
    "Path: ABDFMA Length: 762\n",
    "Path: ABDMFA Length: 812\n",
    "Path: ABFDMA Length: 773\n",
    "Path: ABFMDA Length: 877\n",
    "Path: ABMDFA Length: 777\n",
    "Path: ABMFDA Length: 831\n",
    "Path: ADBFMA Length: 776\n",
    "Path: ADBMFA Length: 780\n",
    "Path: ADFBMA Length: 741\n",
    "Path: ADMBFA Length: 791\n",
    "Path: AFBDMA Length: 722\n",
    "Path: AFDBMA Length: 676\n",
    "Path: FABDMF Length: 812\n",
    "Path: FABMDF Length: 777\n",
    "Path: FADBMF Length: 780\n",
    "Path: FADMBF Length: 791\n",
    "Path: FAMBDF Length: 676\n",
    "Path: FAMDBF Length: 722\n",
    "Path: FBADMF Length: 877\n",
    "Path: FBAMDF Length: 773\n",
    "Path: FBDAMF Length: 776\n",
    "Path: FBMADF Length: 741\n",
    "Path: FDABMF Length: 831\n",
    "Path: FDBAMF Length: 762\n",
    "Path: MABDFM Length: 762\n",
    "Path: MABFDM Length: 773\n",
    "Path: MADBFM Length: 776\n",
    "Path: MADFBM Length: 741\n",
    "Path: MAFBDM Length: 722\n",
    "Path: MAFDBM Length: 676\n",
    "Path: MBADFM Length: 831\n",
    "Path: MBAFDM Length: 777\n",
    "Path: MBDAFM Length: 780\n",
    "Path: MBFADM Length: 791\n",
    "Path: MDABFM Length: 877\n",
    "Path: MDBAFM Length: 812\n",
    "Path: DABFMD Length: 877\n",
    "Path: DABMFD Length: 831\n",
    "Path: DAFBMD Length: 791\n",
    "Path: DAFMBD Length: 780\n",
    "Path: DAMBFD Length: 741\n",
    "Path: DAMFBD Length: 776\n",
    "Path: DBAFMD Length: 812\n",
    "Path: DBAMFD Length: 762\n",
    "Path: DBFAMD Length: 722\n",
    "Path: DBMAFD Length: 676\n",
    "Path: DFABMD Length: 777\n",
    "Path: DFBAMD Length: 773\n",
    "\"\"\"\n",
    "del_duplicates(all_paths)"
   ]
  }
 ],
 "metadata": {
  "kernelspec": {
   "display_name": "base",
   "language": "python",
   "name": "python3"
  },
  "language_info": {
   "codemirror_mode": {
    "name": "ipython",
    "version": 3
   },
   "file_extension": ".py",
   "mimetype": "text/x-python",
   "name": "python",
   "nbconvert_exporter": "python",
   "pygments_lexer": "ipython3",
   "version": "3.10.12"
  }
 },
 "nbformat": 4,
 "nbformat_minor": 2
}
