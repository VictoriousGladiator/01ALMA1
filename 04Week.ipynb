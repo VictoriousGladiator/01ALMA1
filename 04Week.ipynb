{
 "cells": [
  {
   "cell_type": "markdown",
   "metadata": {},
   "source": [
    "##### [Task](https://en.wikipedia.org/wiki/Sorting_algorithm) (5 + 5 + 5 + 5 = 20 Points)"
   ]
  },
  {
   "cell_type": "code",
   "execution_count": null,
   "metadata": {},
   "outputs": [],
   "source": [
    "\"\"\" \n",
    "    topic: sorting algorithms\n",
    "\n",
    "    compare the runtime of the discussed sorting algorithms\n",
    "\n",
    "    input: array\n",
    "    output: sorted array\n",
    "\n",
    "    a) bubblesort\n",
    "\n",
    "    b) mergesort\n",
    "\n",
    "    c) quicksort\n",
    "\n",
    "    d) visualization\n",
    "        - for n ∈ {4, 8, ..., 2^15} uniform distributed numbers\n",
    "        - runtime (in s) - n (# numbers)\n",
    "        - plot with matplotlib\n",
    "            - pyplot.loglog\n",
    "            - legend\n",
    "            - axes\n",
    "            - title\n",
    "\n",
    "\"\"\""
   ]
  },
  {
   "cell_type": "markdown",
   "metadata": {},
   "source": [
    "#### [Bubblesort](https://en.wikipedia.org/wiki/Bubble_sort)"
   ]
  },
  {
   "cell_type": "code",
   "execution_count": 28,
   "metadata": {},
   "outputs": [],
   "source": [
    "def bubblesort(array):\n",
    "    arr_length = len(array)\n",
    "    for i in range(arr_length):\n",
    "        sorted = True\n",
    "        for j in range(arr_length - i - 1):\n",
    "            if array[j] > array[j+1]:\n",
    "                array[j], array[j+1] = array[j+1], array[j]\n",
    "                sorted = False\n",
    "        if sorted:\n",
    "            break\n",
    "    return array"
   ]
  },
  {
   "cell_type": "markdown",
   "metadata": {},
   "source": [
    "#### [Mergesort](https://en.wikipedia.org/wiki/Merge_sort)"
   ]
  },
  {
   "cell_type": "code",
   "execution_count": 11,
   "metadata": {},
   "outputs": [],
   "source": [
    "def split(array):\n",
    "    splitting_at = len(array) // 2\n",
    "    return array[:splitting_at], array[splitting_at:]\n",
    "\n",
    "def merge(LeftSide, RightSide):\n",
    "    merged = []\n",
    "    left,right = len(LeftSide), len(RightSide)\n",
    "    i_ctr, j_ctr = 0,0\n",
    "    while i_ctr < left and j_ctr < right:\n",
    "        if LeftSide[i_ctr] < RightSide[j_ctr]:\n",
    "            merged.append(LeftSide[i_ctr])\n",
    "            i_ctr += 1\n",
    "        else:\n",
    "            merged.append(RightSide[j_ctr])\n",
    "            j_ctr += 1\n",
    "    merged.extend(LeftSide[i_ctr:])\n",
    "    merged.extend(RightSide[j_ctr:])\n",
    "    return merged\n",
    "\n",
    "def mergesort(array):\n",
    "    if len(array) <= 1:\n",
    "        return array\n",
    "\n",
    "    left, right = split(array)\n",
    "    left = mergesort(left)\n",
    "    right = mergesort(right)\n",
    "    return merge(left, right)"
   ]
  },
  {
   "cell_type": "markdown",
   "metadata": {},
   "source": [
    "#### [Quicksort](https://en.wikipedia.org/wiki/Quicksort)"
   ]
  },
  {
   "cell_type": "code",
   "execution_count": 15,
   "metadata": {},
   "outputs": [],
   "source": [
    "def quicksort(array):\n",
    "    if len(array) <= 1:\n",
    "        return array\n",
    "\n",
    "    pivot = array[-1]\n",
    "    LeftSide, RightSide = [],[]\n",
    "    for element in array[:-1]:\n",
    "        if element <= pivot:\n",
    "            LeftSide.append(element)\n",
    "        else:\n",
    "            RightSide.append(element)\n",
    "\n",
    "    sorted_left = quicksort(LeftSide)\n",
    "    sorted_right = quicksort(RightSide)\n",
    "    return sorted_left + [pivot] + sorted_right"
   ]
  }
 ],
 "metadata": {
  "kernelspec": {
   "display_name": "base",
   "language": "python",
   "name": "python3"
  },
  "language_info": {
   "codemirror_mode": {
    "name": "ipython",
    "version": 3
   },
   "file_extension": ".py",
   "mimetype": "text/x-python",
   "name": "python",
   "nbconvert_exporter": "python",
   "pygments_lexer": "ipython3",
   "version": "3.10.12"
  }
 },
 "nbformat": 4,
 "nbformat_minor": 2
}
