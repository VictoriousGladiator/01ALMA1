{
 "cells": [
  {
   "cell_type": "markdown",
   "metadata": {},
   "source": [
    "##### [Task](https://en.wikipedia.org/wiki/Sorting_algorithm) (5 + 5 + 5 + 5 = 20 Points)"
   ]
  },
  {
   "cell_type": "code",
   "execution_count": null,
   "metadata": {},
   "outputs": [],
   "source": [
    "\"\"\" \n",
    "    topic: sorting algorithms\n",
    "\n",
    "    compare the runtime of the discussed sorting algorithms\n",
    "\n",
    "    input: array\n",
    "    output: sorted array\n",
    "\n",
    "    a) bubblesort\n",
    "\n",
    "    b) mergesort\n",
    "\n",
    "    c) quicksort\n",
    "\n",
    "    d) visualization\n",
    "        - for n ∈ {4, 8, ..., 2^15} uniform distributed numbers\n",
    "        - runtime (in s) - n (# numbers)\n",
    "        - plot with matplotlib\n",
    "            - pyplot.loglog\n",
    "            - legend\n",
    "            - axes\n",
    "            - title\n",
    "\n",
    "\"\"\""
   ]
  }
 ],
 "metadata": {
  "language_info": {
   "name": "python"
  }
 },
 "nbformat": 4,
 "nbformat_minor": 2
}
